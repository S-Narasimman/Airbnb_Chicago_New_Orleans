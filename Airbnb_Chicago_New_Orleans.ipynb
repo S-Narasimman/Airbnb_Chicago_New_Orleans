{
  "nbformat": 4,
  "nbformat_minor": 0,
  "metadata": {
    "colab": {
      "provenance": [],
      "authorship_tag": "ABX9TyPPhlZvhm0ucRnI5a5PyiiV",
      "include_colab_link": true
    },
    "kernelspec": {
      "name": "python3",
      "display_name": "Python 3"
    },
    "language_info": {
      "name": "python"
    }
  },
  "cells": [
    {
      "cell_type": "markdown",
      "metadata": {
        "id": "view-in-github",
        "colab_type": "text"
      },
      "source": [
        "<a href=\"https://colab.research.google.com/github/S-Narasimman/Airbnb_Chicago_New_Orleans/blob/main/Airbnb_Chicago_New_Orleans.ipynb\" target=\"_parent\"><img src=\"https://colab.research.google.com/assets/colab-badge.svg\" alt=\"Open In Colab\"/></a>"
      ]
    },
    {
      "cell_type": "code",
      "execution_count": null,
      "metadata": {
        "id": "dQf994iZhmjp"
      },
      "outputs": [],
      "source": [
        "import pandas as pd\n",
        "import warnings\n",
        "warnings.filterwarnings('ignore') #filter warning to ingnore"
      ]
    },
    {
      "cell_type": "code",
      "source": [
        "from google.colab import drive\n",
        "drive.mount('/content/drive')"
      ],
      "metadata": {
        "colab": {
          "base_uri": "https://localhost:8080/"
        },
        "id": "eZ9EublHit1w",
        "outputId": "cdf45a7e-171a-4720-8705-dbccd91f06b8"
      },
      "execution_count": null,
      "outputs": [
        {
          "output_type": "stream",
          "name": "stdout",
          "text": [
            "Mounted at /content/drive\n"
          ]
        }
      ]
    },
    {
      "cell_type": "code",
      "source": [
        "New_Orleans_raw = pd.read_csv(\"/content/drive/MyDrive/M2 Classroom Practice/Personal_Project/New Orleans.csv\")"
      ],
      "metadata": {
        "id": "XdfU_Syjiaoq"
      },
      "execution_count": null,
      "outputs": []
    },
    {
      "cell_type": "code",
      "source": [
        "Chicago_raw = pd.read_csv(\"/content/drive/MyDrive/M2 Classroom Practice/Personal_Project/Chicago.csv\")"
      ],
      "metadata": {
        "id": "HjeiZI0mIk18"
      },
      "execution_count": null,
      "outputs": []
    },
    {
      "cell_type": "code",
      "source": [
        "New_Orleans_raw.shape"
      ],
      "metadata": {
        "colab": {
          "base_uri": "https://localhost:8080/"
        },
        "id": "3EvaGwNaNmca",
        "outputId": "b7b8748e-68d2-497f-fe08-096fee4d393e"
      },
      "execution_count": null,
      "outputs": [
        {
          "output_type": "execute_result",
          "data": {
            "text/plain": [
              "(7522, 18)"
            ]
          },
          "metadata": {},
          "execution_count": 6
        }
      ]
    },
    {
      "cell_type": "code",
      "source": [
        "Chicago_raw.shape"
      ],
      "metadata": {
        "colab": {
          "base_uri": "https://localhost:8080/"
        },
        "id": "ctfiznqRKOC_",
        "outputId": "c73e5c32-4385-4c6b-ce50-edc41893aa42"
      },
      "execution_count": null,
      "outputs": [
        {
          "output_type": "execute_result",
          "data": {
            "text/plain": [
              "(8604, 18)"
            ]
          },
          "metadata": {},
          "execution_count": 7
        }
      ]
    },
    {
      "cell_type": "code",
      "source": [
        "# 1. Drop irrelevant columns\n",
        "if \"neighbourhood_group\" in New_Orleans_raw.columns:\n",
        "    New_Orleans_raw.drop(columns=[\"neighbourhood_group\"], inplace=True)\n",
        "# 2. Handle missing values\n",
        "New_Orleans_raw = New_Orleans_raw[New_Orleans_raw[\"price\"].notnull() & (Chicago_raw[\"price\"] > 0)]  # remove rows without price or invalid price\n",
        "New_Orleans_raw[\"last_review\"] = pd.to_datetime(New_Orleans_raw[\"last_review\"], errors=\"coerce\")  # convert to datetime\n",
        "New_Orleans_raw.dropna(subset=[\"last_review\"], inplace=True)  # remove rows with missing last_review\n",
        "New_Orleans_raw[\"last_review\"] = New_Orleans_raw[\"last_review\"].dt.date  # keep only the date (remove time)\n",
        "New_Orleans_raw[\"reviews_per_month\"].fillna(0, inplace=True)  # missing reviews_per_month → 0\n",
        "New_Orleans_raw[\"license\"] = New_Orleans_raw[\"license\"].fillna(\"Not Registered\")\n",
        "New_Orleans_raw['City'] = 'New_Orleans'"
      ],
      "metadata": {
        "id": "nsK79TaKmgyv"
      },
      "execution_count": null,
      "outputs": []
    },
    {
      "cell_type": "code",
      "source": [
        "New_Orleans_raw.shape"
      ],
      "metadata": {
        "colab": {
          "base_uri": "https://localhost:8080/"
        },
        "id": "YXK5O5g357Kr",
        "outputId": "c8719ae1-44d0-4f50-fe5c-bb55e1ea8b9c"
      },
      "execution_count": null,
      "outputs": [
        {
          "output_type": "execute_result",
          "data": {
            "text/plain": [
              "(4064, 18)"
            ]
          },
          "metadata": {},
          "execution_count": 20
        }
      ]
    },
    {
      "cell_type": "code",
      "source": [
        "# 1. Drop irrelevant columns\n",
        "if \"neighbourhood_group\" in Chicago_raw.columns:\n",
        "    Chicago_raw.drop(columns=[\"neighbourhood_group\"], inplace=True)\n",
        "# 2. Handle missing values\n",
        "Chicago_raw = Chicago_raw[Chicago_raw[\"price\"].notnull() & (Chicago_raw[\"price\"] > 0)]  # remove rows without price or invalid price\n",
        "Chicago_raw[\"last_review\"] = pd.to_datetime(Chicago_raw[\"last_review\"], errors=\"coerce\")  # convert to datetime\n",
        "Chicago_raw.dropna(subset=[\"last_review\"], inplace=True)  # remove rows with missing last_review\n",
        "Chicago_raw[\"last_review\"] = Chicago_raw[\"last_review\"].dt.date  # keep only the date (remove time)\n",
        "Chicago_raw[\"reviews_per_month\"].fillna(0, inplace=True)  # missing reviews_per_month → 0\n",
        "Chicago_raw[\"license\"] = Chicago_raw[\"license\"].fillna(\"Not Registered\")\n",
        "Chicago_raw['City'] = 'Chicago'"
      ],
      "metadata": {
        "id": "xta5NMLsK_u1"
      },
      "execution_count": null,
      "outputs": []
    },
    {
      "cell_type": "code",
      "source": [
        "Chicago_raw.shape"
      ],
      "metadata": {
        "colab": {
          "base_uri": "https://localhost:8080/"
        },
        "id": "i5miOvNRLjuv",
        "outputId": "88a60376-6984-49c4-d384-5808ec754670"
      },
      "execution_count": null,
      "outputs": [
        {
          "output_type": "execute_result",
          "data": {
            "text/plain": [
              "(6113, 18)"
            ]
          },
          "metadata": {},
          "execution_count": 22
        }
      ]
    },
    {
      "cell_type": "code",
      "source": [
        "Final_DataSet = pd.concat([New_Orleans_raw, Chicago_raw],ignore_index=True)"
      ],
      "metadata": {
        "id": "Fu7CPI8J0zN1"
      },
      "execution_count": null,
      "outputs": []
    },
    {
      "cell_type": "code",
      "source": [
        "Airbnb_Final = Final_DataSet.to_csv(\"/content/drive/MyDrive/M2 Classroom Practice/Personal_Project/Airbnb_Combined.csv\",index=False)"
      ],
      "metadata": {
        "id": "u4y2engWxcvM"
      },
      "execution_count": null,
      "outputs": []
    }
  ]
}