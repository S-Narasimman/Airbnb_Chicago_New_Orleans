{
  "nbformat": 4,
  "nbformat_minor": 0,
  "metadata": {
    "colab": {
      "provenance": [],
      "collapsed_sections": [
        "Kwruc_0XEdK2",
        "7Dy--hr4IVZc",
        "_oGW9YFpInJY",
        "hO06W8uwEyQz",
        "iXf-7AIXFKjG",
        "9vLycjwatHry",
        "Ieuda3ow6zZ8",
        "MmDztQAsLPau",
        "pqZxIzGvT62Z"
      ],
      "mount_file_id": "1u9bO61b6eN3L9YJ4EwxsHy4Z7de3iO1T",
      "authorship_tag": "ABX9TyNQEF5t4QZ5aT/8yb54wFm/",
      "include_colab_link": true
    },
    "kernelspec": {
      "name": "python3",
      "display_name": "Python 3"
    },
    "language_info": {
      "name": "python"
    }
  },
  "cells": [
    {
      "cell_type": "markdown",
      "metadata": {
        "id": "view-in-github",
        "colab_type": "text"
      },
      "source": [
        "<a href=\"https://colab.research.google.com/github/S-Narasimman/Airbnb_Chicago_New_Orleans/blob/main/Restaurant_Exploratory_Data_Analysis.ipynb\" target=\"_parent\"><img src=\"https://colab.research.google.com/assets/colab-badge.svg\" alt=\"Open In Colab\"/></a>"
      ]
    },
    {
      "cell_type": "markdown",
      "source": [
        "# **Project Name: Restaurant Exploratory Data Analysis**"
      ],
      "metadata": {
        "id": "WJdw_gWAfw4c"
      }
    },
    {
      "cell_type": "markdown",
      "source": [
        "**Done By: S.Narasimman**\n",
        "\n",
        "**Contact info:**\n",
        "*   E-mail: narasimman2k@gmail.com\n",
        "*   [LinkedIn](https://www.linkedin.com/in/narasimman-s-a8aa15332/)\n",
        "*   [Github](https://github.com/S-Narasimman)"
      ],
      "metadata": {
        "id": "wj2V1r-Nc35U"
      }
    },
    {
      "cell_type": "markdown",
      "source": [
        "# **Acknowledgement**"
      ],
      "metadata": {
        "id": "Lu8ZT7QCgVpA"
      }
    },
    {
      "cell_type": "markdown",
      "source": [
        "I would like to express my sincere gratitude to Cognifyz Technologies for providing me with the opportunity to work on this project during my internship.\n",
        "\n",
        "This experience enabled me to gain valuable hands-on exposure in exploratory data analysis and derive meaningful business insights from real-world datasets.\n",
        "\n",
        "I am also grateful to my mentors and the teams at Cognifyz Technologies and AlmaBetter for their guidance, support, and encouragement throughout the project."
      ],
      "metadata": {
        "id": "HqiHULoqgaMl"
      }
    },
    {
      "cell_type": "markdown",
      "source": [
        "# **Importing Libraries**"
      ],
      "metadata": {
        "id": "FDGwY2U6tLKu"
      }
    },
    {
      "cell_type": "code",
      "execution_count": 1,
      "metadata": {
        "id": "P8d2EPL3pJuV"
      },
      "outputs": [],
      "source": [
        "import pandas as pd\n",
        "import seaborn as sns\n",
        "import matplotlib.pyplot as plt\n",
        "from collections import Counter\n",
        "pd.set_option(\"display.max_rows\", None)\n",
        "pd.set_option('display.max_columns',None)\n",
        "import warnings\n",
        "warnings.filterwarnings(\"ignore\")"
      ]
    },
    {
      "cell_type": "markdown",
      "source": [
        "# **Importing Dataset**"
      ],
      "metadata": {
        "id": "78al-P20tgO1"
      }
    },
    {
      "cell_type": "code",
      "source": [
        "Restaurant_df = pd.read_csv('/content/drive/MyDrive/M2 Classroom Practice/Personal_Project/Restaurant.csv')"
      ],
      "metadata": {
        "id": "J5C_2Yyytj2l"
      },
      "execution_count": 35,
      "outputs": []
    },
    {
      "cell_type": "code",
      "source": [
        "print(Restaurant_df['Has Online delivery'].value_counts())\n",
        "print(Restaurant_df['Has Table booking'].value_counts())"
      ],
      "metadata": {
        "colab": {
          "base_uri": "https://localhost:8080/"
        },
        "id": "KiAsDXE4_LtC",
        "outputId": "9268560d-fd95-44cd-cc30-c2f7f5715d4f"
      },
      "execution_count": null,
      "outputs": [
        {
          "output_type": "stream",
          "name": "stdout",
          "text": [
            "Has Online delivery\n",
            "No     7100\n",
            "Yes    2451\n",
            "Name: count, dtype: int64\n",
            "Has Table booking\n",
            "No     8393\n",
            "Yes    1158\n",
            "Name: count, dtype: int64\n"
          ]
        }
      ]
    },
    {
      "cell_type": "markdown",
      "source": [
        "# **Dataset information**"
      ],
      "metadata": {
        "id": "pXJJGJOXEj6M"
      }
    },
    {
      "cell_type": "code",
      "source": [
        "Restaurant_df.info()"
      ],
      "metadata": {
        "colab": {
          "base_uri": "https://localhost:8080/"
        },
        "id": "UbpepwOnt4Va",
        "outputId": "5243bdf4-9bff-470a-a875-70283e01ed09"
      },
      "execution_count": null,
      "outputs": [
        {
          "output_type": "stream",
          "name": "stdout",
          "text": [
            "<class 'pandas.core.frame.DataFrame'>\n",
            "RangeIndex: 9551 entries, 0 to 9550\n",
            "Data columns (total 21 columns):\n",
            " #   Column                Non-Null Count  Dtype  \n",
            "---  ------                --------------  -----  \n",
            " 0   Restaurant ID         9551 non-null   int64  \n",
            " 1   Restaurant Name       9551 non-null   object \n",
            " 2   Country Code          9551 non-null   int64  \n",
            " 3   City                  9551 non-null   object \n",
            " 4   Address               9551 non-null   object \n",
            " 5   Locality              9551 non-null   object \n",
            " 6   Locality Verbose      9551 non-null   object \n",
            " 7   Longitude             9551 non-null   float64\n",
            " 8   Latitude              9551 non-null   float64\n",
            " 9   Cuisines              9542 non-null   object \n",
            " 10  Average Cost for two  9551 non-null   int64  \n",
            " 11  Currency              9551 non-null   object \n",
            " 12  Has Table booking     9551 non-null   object \n",
            " 13  Has Online delivery   9551 non-null   object \n",
            " 14  Is delivering now     9551 non-null   object \n",
            " 15  Switch to order menu  9551 non-null   object \n",
            " 16  Price range           9551 non-null   int64  \n",
            " 17  Aggregate rating      9551 non-null   float64\n",
            " 18  Rating color          9551 non-null   object \n",
            " 19  Rating text           9551 non-null   object \n",
            " 20  Votes                 9551 non-null   int64  \n",
            "dtypes: float64(3), int64(5), object(13)\n",
            "memory usage: 1.5+ MB\n"
          ]
        }
      ]
    },
    {
      "cell_type": "code",
      "source": [
        "Restaurant_df.sample(10)"
      ],
      "metadata": {
        "colab": {
          "base_uri": "https://localhost:8080/",
          "height": 1000
        },
        "id": "Z2fm6F62t-VA",
        "outputId": "dc93a570-29cf-45fd-86c9-3543e00f0e22"
      },
      "execution_count": null,
      "outputs": [
        {
          "output_type": "execute_result",
          "data": {
            "text/plain": [
              "      Restaurant ID             Restaurant Name  Country Code         City  \\\n",
              "9190        2700082             The Urban Brava             1       Ranchi   \n",
              "1966       18363062  Grill King Kabab & Curries             1      Gurgaon   \n",
              "630         3400059       Peshawri - ITC Mughal             1         Agra   \n",
              "3182         308183                    Food Hub             1    New Delhi   \n",
              "8250         307014     Aureo Dine & Bake House             1        Noida   \n",
              "4760           3772                Masala Magic             1    New Delhi   \n",
              "1           6304287            Izakaya Kikufuji           162  Makati City   \n",
              "1795       18444299              HSI Food World             1      Gurgaon   \n",
              "5267       18324529                  Sandwichai             1    New Delhi   \n",
              "9544        5915547       Karak�_y G�_ll�_o��lu           208    ��stanbul   \n",
              "\n",
              "                                                Address  \\\n",
              "9190   Circular Road, Near Lalpur Chowk, Lalpur, Ranchi   \n",
              "1966  Shop 1, La Mart, La Laguna Society, Golf Cours...   \n",
              "630           ITC Mughal, Fatehabad Road, Tajganj, Agra   \n",
              "3182       DDA Market, Kalu Sarai, Hauz Khas, New Delhi   \n",
              "8250               Shop 9, Block A-3, Sector 110, Noida   \n",
              "4760     C-1/10, Lal Quarters, Krishna Nagar, New Delhi   \n",
              "1     Little Tokyo, 2277 Chino Roces Avenue, Legaspi...   \n",
              "1795      90, Lt. Atul Kataria Marg, Sector 17, Gurgaon   \n",
              "5267  Sandwichai, Shop no 2,3-Sikka Plaza, Mayur Vih...   \n",
              "9544  Kemanke�� Karamustafa Pa��a Mahallesi, R۱ht۱m ...   \n",
              "\n",
              "                                        Locality  \\\n",
              "9190                                      Lalpur   \n",
              "1966                                   Sector 54   \n",
              "630                          ITC Mughal, Tajganj   \n",
              "3182           DDA Market, Kalu Sarai, Hauz Khas   \n",
              "8250                                  Sector 110   \n",
              "4760                               Krishna Nagar   \n",
              "1     Little Tokyo, Legaspi Village, Makati City   \n",
              "1795                                   Sector 17   \n",
              "5267                         Mayur Vihar Phase 1   \n",
              "9544                                    Karak�_y   \n",
              "\n",
              "                                       Locality Verbose   Longitude  \\\n",
              "9190                                     Lalpur, Ranchi   85.335739   \n",
              "1966                                 Sector 54, Gurgaon   77.104243   \n",
              "630                           ITC Mughal, Tajganj, Agra   78.044095   \n",
              "3182       DDA Market, Kalu Sarai, Hauz Khas, New Delhi   77.203891   \n",
              "8250                                  Sector 110, Noida   77.387558   \n",
              "4760                           Krishna Nagar, New Delhi   77.281537   \n",
              "1     Little Tokyo, Legaspi Village, Makati City, Ma...  121.014101   \n",
              "1795                                 Sector 17, Gurgaon   77.067059   \n",
              "5267                     Mayur Vihar Phase 1, New Delhi   77.290470   \n",
              "9544                                Karak�_y, ��stanbul   28.977636   \n",
              "\n",
              "       Latitude                               Cuisines  Average Cost for two  \\\n",
              "9190  23.374878          Cafe, Fast Food, North Indian                  1000   \n",
              "1966  28.437259                  North Indian, Chinese                   500   \n",
              "630   27.160934                  North Indian, Mughlai                  2500   \n",
              "3182  28.541903                      Bakery, Fast Food                   150   \n",
              "8250  28.534041     North Indian, Chinese, Continental                  1000   \n",
              "4760  28.659260  North Indian, South Indian, Fast Food                   400   \n",
              "1     14.553708                               Japanese                  1200   \n",
              "1795  28.477216                  North Indian, Chinese                   600   \n",
              "5267  28.606974                              Fast Food                   350   \n",
              "9544  41.022904                       Desserts, B�_rek                    40   \n",
              "\n",
              "                Currency Has Table booking Has Online delivery  \\\n",
              "9190  Indian Rupees(Rs.)                No                  No   \n",
              "1966  Indian Rupees(Rs.)                No                 Yes   \n",
              "630   Indian Rupees(Rs.)                No                  No   \n",
              "3182  Indian Rupees(Rs.)                No                  No   \n",
              "8250  Indian Rupees(Rs.)               Yes                 Yes   \n",
              "4760  Indian Rupees(Rs.)                No                  No   \n",
              "1       Botswana Pula(P)               Yes                  No   \n",
              "1795  Indian Rupees(Rs.)                No                  No   \n",
              "5267  Indian Rupees(Rs.)                No                 Yes   \n",
              "9544    Turkish Lira(TL)                No                  No   \n",
              "\n",
              "     Is delivering now Switch to order menu  Price range  Aggregate rating  \\\n",
              "9190                No                   No            3               3.6   \n",
              "1966                No                   No            2               2.4   \n",
              "630                 No                   No            4               4.3   \n",
              "3182                No                   No            1               3.0   \n",
              "8250                No                   No            3               3.5   \n",
              "4760                No                   No            1               3.0   \n",
              "1                   No                   No            3               4.5   \n",
              "1795                No                   No            2               0.0   \n",
              "5267                No                   No            1               3.3   \n",
              "9544                No                   No            2               4.7   \n",
              "\n",
              "     Rating color Rating text  Votes  \n",
              "9190       Yellow        Good     95  \n",
              "1966          Red        Poor     20  \n",
              "630         Green   Very Good    133  \n",
              "3182       Orange     Average      4  \n",
              "8250       Yellow        Good    367  \n",
              "4760       Orange     Average     16  \n",
              "1      Dark Green   Excellent    591  \n",
              "1795        White   Not rated      0  \n",
              "5267       Orange     Average     58  \n",
              "9544   Dark Green   Excellent   1305  "
            ],
            "text/html": [
              "\n",
              "  <div id=\"df-2a9ea45b-480a-495d-b8aa-cd12312d8243\" class=\"colab-df-container\">\n",
              "    <div>\n",
              "<style scoped>\n",
              "    .dataframe tbody tr th:only-of-type {\n",
              "        vertical-align: middle;\n",
              "    }\n",
              "\n",
              "    .dataframe tbody tr th {\n",
              "        vertical-align: top;\n",
              "    }\n",
              "\n",
              "    .dataframe thead th {\n",
              "        text-align: right;\n",
              "    }\n",
              "</style>\n",
              "<table border=\"1\" class=\"dataframe\">\n",
              "  <thead>\n",
              "    <tr style=\"text-align: right;\">\n",
              "      <th></th>\n",
              "      <th>Restaurant ID</th>\n",
              "      <th>Restaurant Name</th>\n",
              "      <th>Country Code</th>\n",
              "      <th>City</th>\n",
              "      <th>Address</th>\n",
              "      <th>Locality</th>\n",
              "      <th>Locality Verbose</th>\n",
              "      <th>Longitude</th>\n",
              "      <th>Latitude</th>\n",
              "      <th>Cuisines</th>\n",
              "      <th>Average Cost for two</th>\n",
              "      <th>Currency</th>\n",
              "      <th>Has Table booking</th>\n",
              "      <th>Has Online delivery</th>\n",
              "      <th>Is delivering now</th>\n",
              "      <th>Switch to order menu</th>\n",
              "      <th>Price range</th>\n",
              "      <th>Aggregate rating</th>\n",
              "      <th>Rating color</th>\n",
              "      <th>Rating text</th>\n",
              "      <th>Votes</th>\n",
              "    </tr>\n",
              "  </thead>\n",
              "  <tbody>\n",
              "    <tr>\n",
              "      <th>9190</th>\n",
              "      <td>2700082</td>\n",
              "      <td>The Urban Brava</td>\n",
              "      <td>1</td>\n",
              "      <td>Ranchi</td>\n",
              "      <td>Circular Road, Near Lalpur Chowk, Lalpur, Ranchi</td>\n",
              "      <td>Lalpur</td>\n",
              "      <td>Lalpur, Ranchi</td>\n",
              "      <td>85.335739</td>\n",
              "      <td>23.374878</td>\n",
              "      <td>Cafe, Fast Food, North Indian</td>\n",
              "      <td>1000</td>\n",
              "      <td>Indian Rupees(Rs.)</td>\n",
              "      <td>No</td>\n",
              "      <td>No</td>\n",
              "      <td>No</td>\n",
              "      <td>No</td>\n",
              "      <td>3</td>\n",
              "      <td>3.6</td>\n",
              "      <td>Yellow</td>\n",
              "      <td>Good</td>\n",
              "      <td>95</td>\n",
              "    </tr>\n",
              "    <tr>\n",
              "      <th>1966</th>\n",
              "      <td>18363062</td>\n",
              "      <td>Grill King Kabab &amp; Curries</td>\n",
              "      <td>1</td>\n",
              "      <td>Gurgaon</td>\n",
              "      <td>Shop 1, La Mart, La Laguna Society, Golf Cours...</td>\n",
              "      <td>Sector 54</td>\n",
              "      <td>Sector 54, Gurgaon</td>\n",
              "      <td>77.104243</td>\n",
              "      <td>28.437259</td>\n",
              "      <td>North Indian, Chinese</td>\n",
              "      <td>500</td>\n",
              "      <td>Indian Rupees(Rs.)</td>\n",
              "      <td>No</td>\n",
              "      <td>Yes</td>\n",
              "      <td>No</td>\n",
              "      <td>No</td>\n",
              "      <td>2</td>\n",
              "      <td>2.4</td>\n",
              "      <td>Red</td>\n",
              "      <td>Poor</td>\n",
              "      <td>20</td>\n",
              "    </tr>\n",
              "    <tr>\n",
              "      <th>630</th>\n",
              "      <td>3400059</td>\n",
              "      <td>Peshawri - ITC Mughal</td>\n",
              "      <td>1</td>\n",
              "      <td>Agra</td>\n",
              "      <td>ITC Mughal, Fatehabad Road, Tajganj, Agra</td>\n",
              "      <td>ITC Mughal, Tajganj</td>\n",
              "      <td>ITC Mughal, Tajganj, Agra</td>\n",
              "      <td>78.044095</td>\n",
              "      <td>27.160934</td>\n",
              "      <td>North Indian, Mughlai</td>\n",
              "      <td>2500</td>\n",
              "      <td>Indian Rupees(Rs.)</td>\n",
              "      <td>No</td>\n",
              "      <td>No</td>\n",
              "      <td>No</td>\n",
              "      <td>No</td>\n",
              "      <td>4</td>\n",
              "      <td>4.3</td>\n",
              "      <td>Green</td>\n",
              "      <td>Very Good</td>\n",
              "      <td>133</td>\n",
              "    </tr>\n",
              "    <tr>\n",
              "      <th>3182</th>\n",
              "      <td>308183</td>\n",
              "      <td>Food Hub</td>\n",
              "      <td>1</td>\n",
              "      <td>New Delhi</td>\n",
              "      <td>DDA Market, Kalu Sarai, Hauz Khas, New Delhi</td>\n",
              "      <td>DDA Market, Kalu Sarai, Hauz Khas</td>\n",
              "      <td>DDA Market, Kalu Sarai, Hauz Khas, New Delhi</td>\n",
              "      <td>77.203891</td>\n",
              "      <td>28.541903</td>\n",
              "      <td>Bakery, Fast Food</td>\n",
              "      <td>150</td>\n",
              "      <td>Indian Rupees(Rs.)</td>\n",
              "      <td>No</td>\n",
              "      <td>No</td>\n",
              "      <td>No</td>\n",
              "      <td>No</td>\n",
              "      <td>1</td>\n",
              "      <td>3.0</td>\n",
              "      <td>Orange</td>\n",
              "      <td>Average</td>\n",
              "      <td>4</td>\n",
              "    </tr>\n",
              "    <tr>\n",
              "      <th>8250</th>\n",
              "      <td>307014</td>\n",
              "      <td>Aureo Dine &amp; Bake House</td>\n",
              "      <td>1</td>\n",
              "      <td>Noida</td>\n",
              "      <td>Shop 9, Block A-3, Sector 110, Noida</td>\n",
              "      <td>Sector 110</td>\n",
              "      <td>Sector 110, Noida</td>\n",
              "      <td>77.387558</td>\n",
              "      <td>28.534041</td>\n",
              "      <td>North Indian, Chinese, Continental</td>\n",
              "      <td>1000</td>\n",
              "      <td>Indian Rupees(Rs.)</td>\n",
              "      <td>Yes</td>\n",
              "      <td>Yes</td>\n",
              "      <td>No</td>\n",
              "      <td>No</td>\n",
              "      <td>3</td>\n",
              "      <td>3.5</td>\n",
              "      <td>Yellow</td>\n",
              "      <td>Good</td>\n",
              "      <td>367</td>\n",
              "    </tr>\n",
              "    <tr>\n",
              "      <th>4760</th>\n",
              "      <td>3772</td>\n",
              "      <td>Masala Magic</td>\n",
              "      <td>1</td>\n",
              "      <td>New Delhi</td>\n",
              "      <td>C-1/10, Lal Quarters, Krishna Nagar, New Delhi</td>\n",
              "      <td>Krishna Nagar</td>\n",
              "      <td>Krishna Nagar, New Delhi</td>\n",
              "      <td>77.281537</td>\n",
              "      <td>28.659260</td>\n",
              "      <td>North Indian, South Indian, Fast Food</td>\n",
              "      <td>400</td>\n",
              "      <td>Indian Rupees(Rs.)</td>\n",
              "      <td>No</td>\n",
              "      <td>No</td>\n",
              "      <td>No</td>\n",
              "      <td>No</td>\n",
              "      <td>1</td>\n",
              "      <td>3.0</td>\n",
              "      <td>Orange</td>\n",
              "      <td>Average</td>\n",
              "      <td>16</td>\n",
              "    </tr>\n",
              "    <tr>\n",
              "      <th>1</th>\n",
              "      <td>6304287</td>\n",
              "      <td>Izakaya Kikufuji</td>\n",
              "      <td>162</td>\n",
              "      <td>Makati City</td>\n",
              "      <td>Little Tokyo, 2277 Chino Roces Avenue, Legaspi...</td>\n",
              "      <td>Little Tokyo, Legaspi Village, Makati City</td>\n",
              "      <td>Little Tokyo, Legaspi Village, Makati City, Ma...</td>\n",
              "      <td>121.014101</td>\n",
              "      <td>14.553708</td>\n",
              "      <td>Japanese</td>\n",
              "      <td>1200</td>\n",
              "      <td>Botswana Pula(P)</td>\n",
              "      <td>Yes</td>\n",
              "      <td>No</td>\n",
              "      <td>No</td>\n",
              "      <td>No</td>\n",
              "      <td>3</td>\n",
              "      <td>4.5</td>\n",
              "      <td>Dark Green</td>\n",
              "      <td>Excellent</td>\n",
              "      <td>591</td>\n",
              "    </tr>\n",
              "    <tr>\n",
              "      <th>1795</th>\n",
              "      <td>18444299</td>\n",
              "      <td>HSI Food World</td>\n",
              "      <td>1</td>\n",
              "      <td>Gurgaon</td>\n",
              "      <td>90, Lt. Atul Kataria Marg, Sector 17, Gurgaon</td>\n",
              "      <td>Sector 17</td>\n",
              "      <td>Sector 17, Gurgaon</td>\n",
              "      <td>77.067059</td>\n",
              "      <td>28.477216</td>\n",
              "      <td>North Indian, Chinese</td>\n",
              "      <td>600</td>\n",
              "      <td>Indian Rupees(Rs.)</td>\n",
              "      <td>No</td>\n",
              "      <td>No</td>\n",
              "      <td>No</td>\n",
              "      <td>No</td>\n",
              "      <td>2</td>\n",
              "      <td>0.0</td>\n",
              "      <td>White</td>\n",
              "      <td>Not rated</td>\n",
              "      <td>0</td>\n",
              "    </tr>\n",
              "    <tr>\n",
              "      <th>5267</th>\n",
              "      <td>18324529</td>\n",
              "      <td>Sandwichai</td>\n",
              "      <td>1</td>\n",
              "      <td>New Delhi</td>\n",
              "      <td>Sandwichai, Shop no 2,3-Sikka Plaza, Mayur Vih...</td>\n",
              "      <td>Mayur Vihar Phase 1</td>\n",
              "      <td>Mayur Vihar Phase 1, New Delhi</td>\n",
              "      <td>77.290470</td>\n",
              "      <td>28.606974</td>\n",
              "      <td>Fast Food</td>\n",
              "      <td>350</td>\n",
              "      <td>Indian Rupees(Rs.)</td>\n",
              "      <td>No</td>\n",
              "      <td>Yes</td>\n",
              "      <td>No</td>\n",
              "      <td>No</td>\n",
              "      <td>1</td>\n",
              "      <td>3.3</td>\n",
              "      <td>Orange</td>\n",
              "      <td>Average</td>\n",
              "      <td>58</td>\n",
              "    </tr>\n",
              "    <tr>\n",
              "      <th>9544</th>\n",
              "      <td>5915547</td>\n",
              "      <td>Karak�_y G�_ll�_o��lu</td>\n",
              "      <td>208</td>\n",
              "      <td>��stanbul</td>\n",
              "      <td>Kemanke�� Karamustafa Pa��a Mahallesi, R۱ht۱m ...</td>\n",
              "      <td>Karak�_y</td>\n",
              "      <td>Karak�_y, ��stanbul</td>\n",
              "      <td>28.977636</td>\n",
              "      <td>41.022904</td>\n",
              "      <td>Desserts, B�_rek</td>\n",
              "      <td>40</td>\n",
              "      <td>Turkish Lira(TL)</td>\n",
              "      <td>No</td>\n",
              "      <td>No</td>\n",
              "      <td>No</td>\n",
              "      <td>No</td>\n",
              "      <td>2</td>\n",
              "      <td>4.7</td>\n",
              "      <td>Dark Green</td>\n",
              "      <td>Excellent</td>\n",
              "      <td>1305</td>\n",
              "    </tr>\n",
              "  </tbody>\n",
              "</table>\n",
              "</div>\n",
              "    <div class=\"colab-df-buttons\">\n",
              "\n",
              "  <div class=\"colab-df-container\">\n",
              "    <button class=\"colab-df-convert\" onclick=\"convertToInteractive('df-2a9ea45b-480a-495d-b8aa-cd12312d8243')\"\n",
              "            title=\"Convert this dataframe to an interactive table.\"\n",
              "            style=\"display:none;\">\n",
              "\n",
              "  <svg xmlns=\"http://www.w3.org/2000/svg\" height=\"24px\" viewBox=\"0 -960 960 960\">\n",
              "    <path d=\"M120-120v-720h720v720H120Zm60-500h600v-160H180v160Zm220 220h160v-160H400v160Zm0 220h160v-160H400v160ZM180-400h160v-160H180v160Zm440 0h160v-160H620v160ZM180-180h160v-160H180v160Zm440 0h160v-160H620v160Z\"/>\n",
              "  </svg>\n",
              "    </button>\n",
              "\n",
              "  <style>\n",
              "    .colab-df-container {\n",
              "      display:flex;\n",
              "      gap: 12px;\n",
              "    }\n",
              "\n",
              "    .colab-df-convert {\n",
              "      background-color: #E8F0FE;\n",
              "      border: none;\n",
              "      border-radius: 50%;\n",
              "      cursor: pointer;\n",
              "      display: none;\n",
              "      fill: #1967D2;\n",
              "      height: 32px;\n",
              "      padding: 0 0 0 0;\n",
              "      width: 32px;\n",
              "    }\n",
              "\n",
              "    .colab-df-convert:hover {\n",
              "      background-color: #E2EBFA;\n",
              "      box-shadow: 0px 1px 2px rgba(60, 64, 67, 0.3), 0px 1px 3px 1px rgba(60, 64, 67, 0.15);\n",
              "      fill: #174EA6;\n",
              "    }\n",
              "\n",
              "    .colab-df-buttons div {\n",
              "      margin-bottom: 4px;\n",
              "    }\n",
              "\n",
              "    [theme=dark] .colab-df-convert {\n",
              "      background-color: #3B4455;\n",
              "      fill: #D2E3FC;\n",
              "    }\n",
              "\n",
              "    [theme=dark] .colab-df-convert:hover {\n",
              "      background-color: #434B5C;\n",
              "      box-shadow: 0px 1px 3px 1px rgba(0, 0, 0, 0.15);\n",
              "      filter: drop-shadow(0px 1px 2px rgba(0, 0, 0, 0.3));\n",
              "      fill: #FFFFFF;\n",
              "    }\n",
              "  </style>\n",
              "\n",
              "    <script>\n",
              "      const buttonEl =\n",
              "        document.querySelector('#df-2a9ea45b-480a-495d-b8aa-cd12312d8243 button.colab-df-convert');\n",
              "      buttonEl.style.display =\n",
              "        google.colab.kernel.accessAllowed ? 'block' : 'none';\n",
              "\n",
              "      async function convertToInteractive(key) {\n",
              "        const element = document.querySelector('#df-2a9ea45b-480a-495d-b8aa-cd12312d8243');\n",
              "        const dataTable =\n",
              "          await google.colab.kernel.invokeFunction('convertToInteractive',\n",
              "                                                    [key], {});\n",
              "        if (!dataTable) return;\n",
              "\n",
              "        const docLinkHtml = 'Like what you see? Visit the ' +\n",
              "          '<a target=\"_blank\" href=https://colab.research.google.com/notebooks/data_table.ipynb>data table notebook</a>'\n",
              "          + ' to learn more about interactive tables.';\n",
              "        element.innerHTML = '';\n",
              "        dataTable['output_type'] = 'display_data';\n",
              "        await google.colab.output.renderOutput(dataTable, element);\n",
              "        const docLink = document.createElement('div');\n",
              "        docLink.innerHTML = docLinkHtml;\n",
              "        element.appendChild(docLink);\n",
              "      }\n",
              "    </script>\n",
              "  </div>\n",
              "\n",
              "\n",
              "    <div id=\"df-295466ae-fdfe-453c-95a0-ff450db0ca57\">\n",
              "      <button class=\"colab-df-quickchart\" onclick=\"quickchart('df-295466ae-fdfe-453c-95a0-ff450db0ca57')\"\n",
              "                title=\"Suggest charts\"\n",
              "                style=\"display:none;\">\n",
              "\n",
              "<svg xmlns=\"http://www.w3.org/2000/svg\" height=\"24px\"viewBox=\"0 0 24 24\"\n",
              "     width=\"24px\">\n",
              "    <g>\n",
              "        <path d=\"M19 3H5c-1.1 0-2 .9-2 2v14c0 1.1.9 2 2 2h14c1.1 0 2-.9 2-2V5c0-1.1-.9-2-2-2zM9 17H7v-7h2v7zm4 0h-2V7h2v10zm4 0h-2v-4h2v4z\"/>\n",
              "    </g>\n",
              "</svg>\n",
              "      </button>\n",
              "\n",
              "<style>\n",
              "  .colab-df-quickchart {\n",
              "      --bg-color: #E8F0FE;\n",
              "      --fill-color: #1967D2;\n",
              "      --hover-bg-color: #E2EBFA;\n",
              "      --hover-fill-color: #174EA6;\n",
              "      --disabled-fill-color: #AAA;\n",
              "      --disabled-bg-color: #DDD;\n",
              "  }\n",
              "\n",
              "  [theme=dark] .colab-df-quickchart {\n",
              "      --bg-color: #3B4455;\n",
              "      --fill-color: #D2E3FC;\n",
              "      --hover-bg-color: #434B5C;\n",
              "      --hover-fill-color: #FFFFFF;\n",
              "      --disabled-bg-color: #3B4455;\n",
              "      --disabled-fill-color: #666;\n",
              "  }\n",
              "\n",
              "  .colab-df-quickchart {\n",
              "    background-color: var(--bg-color);\n",
              "    border: none;\n",
              "    border-radius: 50%;\n",
              "    cursor: pointer;\n",
              "    display: none;\n",
              "    fill: var(--fill-color);\n",
              "    height: 32px;\n",
              "    padding: 0;\n",
              "    width: 32px;\n",
              "  }\n",
              "\n",
              "  .colab-df-quickchart:hover {\n",
              "    background-color: var(--hover-bg-color);\n",
              "    box-shadow: 0 1px 2px rgba(60, 64, 67, 0.3), 0 1px 3px 1px rgba(60, 64, 67, 0.15);\n",
              "    fill: var(--button-hover-fill-color);\n",
              "  }\n",
              "\n",
              "  .colab-df-quickchart-complete:disabled,\n",
              "  .colab-df-quickchart-complete:disabled:hover {\n",
              "    background-color: var(--disabled-bg-color);\n",
              "    fill: var(--disabled-fill-color);\n",
              "    box-shadow: none;\n",
              "  }\n",
              "\n",
              "  .colab-df-spinner {\n",
              "    border: 2px solid var(--fill-color);\n",
              "    border-color: transparent;\n",
              "    border-bottom-color: var(--fill-color);\n",
              "    animation:\n",
              "      spin 1s steps(1) infinite;\n",
              "  }\n",
              "\n",
              "  @keyframes spin {\n",
              "    0% {\n",
              "      border-color: transparent;\n",
              "      border-bottom-color: var(--fill-color);\n",
              "      border-left-color: var(--fill-color);\n",
              "    }\n",
              "    20% {\n",
              "      border-color: transparent;\n",
              "      border-left-color: var(--fill-color);\n",
              "      border-top-color: var(--fill-color);\n",
              "    }\n",
              "    30% {\n",
              "      border-color: transparent;\n",
              "      border-left-color: var(--fill-color);\n",
              "      border-top-color: var(--fill-color);\n",
              "      border-right-color: var(--fill-color);\n",
              "    }\n",
              "    40% {\n",
              "      border-color: transparent;\n",
              "      border-right-color: var(--fill-color);\n",
              "      border-top-color: var(--fill-color);\n",
              "    }\n",
              "    60% {\n",
              "      border-color: transparent;\n",
              "      border-right-color: var(--fill-color);\n",
              "    }\n",
              "    80% {\n",
              "      border-color: transparent;\n",
              "      border-right-color: var(--fill-color);\n",
              "      border-bottom-color: var(--fill-color);\n",
              "    }\n",
              "    90% {\n",
              "      border-color: transparent;\n",
              "      border-bottom-color: var(--fill-color);\n",
              "    }\n",
              "  }\n",
              "</style>\n",
              "\n",
              "      <script>\n",
              "        async function quickchart(key) {\n",
              "          const quickchartButtonEl =\n",
              "            document.querySelector('#' + key + ' button');\n",
              "          quickchartButtonEl.disabled = true;  // To prevent multiple clicks.\n",
              "          quickchartButtonEl.classList.add('colab-df-spinner');\n",
              "          try {\n",
              "            const charts = await google.colab.kernel.invokeFunction(\n",
              "                'suggestCharts', [key], {});\n",
              "          } catch (error) {\n",
              "            console.error('Error during call to suggestCharts:', error);\n",
              "          }\n",
              "          quickchartButtonEl.classList.remove('colab-df-spinner');\n",
              "          quickchartButtonEl.classList.add('colab-df-quickchart-complete');\n",
              "        }\n",
              "        (() => {\n",
              "          let quickchartButtonEl =\n",
              "            document.querySelector('#df-295466ae-fdfe-453c-95a0-ff450db0ca57 button');\n",
              "          quickchartButtonEl.style.display =\n",
              "            google.colab.kernel.accessAllowed ? 'block' : 'none';\n",
              "        })();\n",
              "      </script>\n",
              "    </div>\n",
              "\n",
              "    </div>\n",
              "  </div>\n"
            ],
            "application/vnd.google.colaboratory.intrinsic+json": {
              "type": "dataframe"
            }
          },
          "metadata": {},
          "execution_count": 6
        }
      ]
    },
    {
      "cell_type": "markdown",
      "source": [
        "# **Number of Rows and Columns**"
      ],
      "metadata": {
        "id": "Kwruc_0XEdK2"
      }
    },
    {
      "cell_type": "code",
      "source": [
        "Restaurant_df.shape"
      ],
      "metadata": {
        "colab": {
          "base_uri": "https://localhost:8080/"
        },
        "id": "LFuzOeTJuIbI",
        "outputId": "617a1518-807d-45e4-a090-bcf5f0702305"
      },
      "execution_count": null,
      "outputs": [
        {
          "output_type": "execute_result",
          "data": {
            "text/plain": [
              "(9551, 21)"
            ]
          },
          "metadata": {},
          "execution_count": 7
        }
      ]
    },
    {
      "cell_type": "markdown",
      "source": [
        "# **Number of Nulls**"
      ],
      "metadata": {
        "id": "7Dy--hr4IVZc"
      }
    },
    {
      "cell_type": "code",
      "source": [
        "Restaurant_df.isnull().sum()"
      ],
      "metadata": {
        "colab": {
          "base_uri": "https://localhost:8080/",
          "height": 742
        },
        "id": "YAHr5b6CuDAr",
        "outputId": "d96aa3c3-8797-4118-bd60-80e5bbf074a2"
      },
      "execution_count": null,
      "outputs": [
        {
          "output_type": "execute_result",
          "data": {
            "text/plain": [
              "Restaurant ID           0\n",
              "Restaurant Name         0\n",
              "Country Code            0\n",
              "City                    0\n",
              "Address                 0\n",
              "Locality                0\n",
              "Locality Verbose        0\n",
              "Longitude               0\n",
              "Latitude                0\n",
              "Cuisines                9\n",
              "Average Cost for two    0\n",
              "Currency                0\n",
              "Has Table booking       0\n",
              "Has Online delivery     0\n",
              "Is delivering now       0\n",
              "Switch to order menu    0\n",
              "Price range             0\n",
              "Aggregate rating        0\n",
              "Rating color            0\n",
              "Rating text             0\n",
              "Votes                   0\n",
              "dtype: int64"
            ],
            "text/html": [
              "<div>\n",
              "<style scoped>\n",
              "    .dataframe tbody tr th:only-of-type {\n",
              "        vertical-align: middle;\n",
              "    }\n",
              "\n",
              "    .dataframe tbody tr th {\n",
              "        vertical-align: top;\n",
              "    }\n",
              "\n",
              "    .dataframe thead th {\n",
              "        text-align: right;\n",
              "    }\n",
              "</style>\n",
              "<table border=\"1\" class=\"dataframe\">\n",
              "  <thead>\n",
              "    <tr style=\"text-align: right;\">\n",
              "      <th></th>\n",
              "      <th>0</th>\n",
              "    </tr>\n",
              "  </thead>\n",
              "  <tbody>\n",
              "    <tr>\n",
              "      <th>Restaurant ID</th>\n",
              "      <td>0</td>\n",
              "    </tr>\n",
              "    <tr>\n",
              "      <th>Restaurant Name</th>\n",
              "      <td>0</td>\n",
              "    </tr>\n",
              "    <tr>\n",
              "      <th>Country Code</th>\n",
              "      <td>0</td>\n",
              "    </tr>\n",
              "    <tr>\n",
              "      <th>City</th>\n",
              "      <td>0</td>\n",
              "    </tr>\n",
              "    <tr>\n",
              "      <th>Address</th>\n",
              "      <td>0</td>\n",
              "    </tr>\n",
              "    <tr>\n",
              "      <th>Locality</th>\n",
              "      <td>0</td>\n",
              "    </tr>\n",
              "    <tr>\n",
              "      <th>Locality Verbose</th>\n",
              "      <td>0</td>\n",
              "    </tr>\n",
              "    <tr>\n",
              "      <th>Longitude</th>\n",
              "      <td>0</td>\n",
              "    </tr>\n",
              "    <tr>\n",
              "      <th>Latitude</th>\n",
              "      <td>0</td>\n",
              "    </tr>\n",
              "    <tr>\n",
              "      <th>Cuisines</th>\n",
              "      <td>9</td>\n",
              "    </tr>\n",
              "    <tr>\n",
              "      <th>Average Cost for two</th>\n",
              "      <td>0</td>\n",
              "    </tr>\n",
              "    <tr>\n",
              "      <th>Currency</th>\n",
              "      <td>0</td>\n",
              "    </tr>\n",
              "    <tr>\n",
              "      <th>Has Table booking</th>\n",
              "      <td>0</td>\n",
              "    </tr>\n",
              "    <tr>\n",
              "      <th>Has Online delivery</th>\n",
              "      <td>0</td>\n",
              "    </tr>\n",
              "    <tr>\n",
              "      <th>Is delivering now</th>\n",
              "      <td>0</td>\n",
              "    </tr>\n",
              "    <tr>\n",
              "      <th>Switch to order menu</th>\n",
              "      <td>0</td>\n",
              "    </tr>\n",
              "    <tr>\n",
              "      <th>Price range</th>\n",
              "      <td>0</td>\n",
              "    </tr>\n",
              "    <tr>\n",
              "      <th>Aggregate rating</th>\n",
              "      <td>0</td>\n",
              "    </tr>\n",
              "    <tr>\n",
              "      <th>Rating color</th>\n",
              "      <td>0</td>\n",
              "    </tr>\n",
              "    <tr>\n",
              "      <th>Rating text</th>\n",
              "      <td>0</td>\n",
              "    </tr>\n",
              "    <tr>\n",
              "      <th>Votes</th>\n",
              "      <td>0</td>\n",
              "    </tr>\n",
              "  </tbody>\n",
              "</table>\n",
              "</div><br><label><b>dtype:</b> int64</label>"
            ]
          },
          "metadata": {},
          "execution_count": 9
        }
      ]
    },
    {
      "cell_type": "markdown",
      "source": [
        "# **Number of Duplicates**"
      ],
      "metadata": {
        "id": "_oGW9YFpInJY"
      }
    },
    {
      "cell_type": "code",
      "source": [
        "Restaurant_df.duplicated().sum()"
      ],
      "metadata": {
        "colab": {
          "base_uri": "https://localhost:8080/"
        },
        "id": "zAo-b4slIrwu",
        "outputId": "37124c5d-d7d7-465a-e002-25d35d56228f"
      },
      "execution_count": null,
      "outputs": [
        {
          "output_type": "execute_result",
          "data": {
            "text/plain": [
              "np.int64(0)"
            ]
          },
          "metadata": {},
          "execution_count": 5
        }
      ]
    },
    {
      "cell_type": "markdown",
      "source": [
        "# **Dataset Numerical Data Description**"
      ],
      "metadata": {
        "id": "hO06W8uwEyQz"
      }
    },
    {
      "cell_type": "code",
      "source": [
        "Restaurant_df.describe()"
      ],
      "metadata": {
        "id": "YpHVP-s3xhFx",
        "colab": {
          "base_uri": "https://localhost:8080/",
          "height": 300
        },
        "outputId": "9fa62b47-9eec-4803-f28c-3cb62b06a2fd"
      },
      "execution_count": null,
      "outputs": [
        {
          "output_type": "execute_result",
          "data": {
            "text/plain": [
              "       Restaurant ID  Country Code    Longitude     Latitude  \\\n",
              "count   9.551000e+03   9551.000000  9551.000000  9551.000000   \n",
              "mean    9.051128e+06     18.365616    64.126574    25.854381   \n",
              "std     8.791521e+06     56.750546    41.467058    11.007935   \n",
              "min     5.300000e+01      1.000000  -157.948486   -41.330428   \n",
              "25%     3.019625e+05      1.000000    77.081343    28.478713   \n",
              "50%     6.004089e+06      1.000000    77.191964    28.570469   \n",
              "75%     1.835229e+07      1.000000    77.282006    28.642758   \n",
              "max     1.850065e+07    216.000000   174.832089    55.976980   \n",
              "\n",
              "       Average Cost for two  Price range  Aggregate rating         Votes  \n",
              "count           9551.000000  9551.000000       9551.000000   9551.000000  \n",
              "mean            1199.210763     1.804837          2.666370    156.909748  \n",
              "std            16121.183073     0.905609          1.516378    430.169145  \n",
              "min                0.000000     1.000000          0.000000      0.000000  \n",
              "25%              250.000000     1.000000          2.500000      5.000000  \n",
              "50%              400.000000     2.000000          3.200000     31.000000  \n",
              "75%              700.000000     2.000000          3.700000    131.000000  \n",
              "max           800000.000000     4.000000          4.900000  10934.000000  "
            ],
            "text/html": [
              "\n",
              "  <div id=\"df-8f441e8b-69af-4fa0-8bdc-9050322aaad7\" class=\"colab-df-container\">\n",
              "    <div>\n",
              "<style scoped>\n",
              "    .dataframe tbody tr th:only-of-type {\n",
              "        vertical-align: middle;\n",
              "    }\n",
              "\n",
              "    .dataframe tbody tr th {\n",
              "        vertical-align: top;\n",
              "    }\n",
              "\n",
              "    .dataframe thead th {\n",
              "        text-align: right;\n",
              "    }\n",
              "</style>\n",
              "<table border=\"1\" class=\"dataframe\">\n",
              "  <thead>\n",
              "    <tr style=\"text-align: right;\">\n",
              "      <th></th>\n",
              "      <th>Restaurant ID</th>\n",
              "      <th>Country Code</th>\n",
              "      <th>Longitude</th>\n",
              "      <th>Latitude</th>\n",
              "      <th>Average Cost for two</th>\n",
              "      <th>Price range</th>\n",
              "      <th>Aggregate rating</th>\n",
              "      <th>Votes</th>\n",
              "    </tr>\n",
              "  </thead>\n",
              "  <tbody>\n",
              "    <tr>\n",
              "      <th>count</th>\n",
              "      <td>9.551000e+03</td>\n",
              "      <td>9551.000000</td>\n",
              "      <td>9551.000000</td>\n",
              "      <td>9551.000000</td>\n",
              "      <td>9551.000000</td>\n",
              "      <td>9551.000000</td>\n",
              "      <td>9551.000000</td>\n",
              "      <td>9551.000000</td>\n",
              "    </tr>\n",
              "    <tr>\n",
              "      <th>mean</th>\n",
              "      <td>9.051128e+06</td>\n",
              "      <td>18.365616</td>\n",
              "      <td>64.126574</td>\n",
              "      <td>25.854381</td>\n",
              "      <td>1199.210763</td>\n",
              "      <td>1.804837</td>\n",
              "      <td>2.666370</td>\n",
              "      <td>156.909748</td>\n",
              "    </tr>\n",
              "    <tr>\n",
              "      <th>std</th>\n",
              "      <td>8.791521e+06</td>\n",
              "      <td>56.750546</td>\n",
              "      <td>41.467058</td>\n",
              "      <td>11.007935</td>\n",
              "      <td>16121.183073</td>\n",
              "      <td>0.905609</td>\n",
              "      <td>1.516378</td>\n",
              "      <td>430.169145</td>\n",
              "    </tr>\n",
              "    <tr>\n",
              "      <th>min</th>\n",
              "      <td>5.300000e+01</td>\n",
              "      <td>1.000000</td>\n",
              "      <td>-157.948486</td>\n",
              "      <td>-41.330428</td>\n",
              "      <td>0.000000</td>\n",
              "      <td>1.000000</td>\n",
              "      <td>0.000000</td>\n",
              "      <td>0.000000</td>\n",
              "    </tr>\n",
              "    <tr>\n",
              "      <th>25%</th>\n",
              "      <td>3.019625e+05</td>\n",
              "      <td>1.000000</td>\n",
              "      <td>77.081343</td>\n",
              "      <td>28.478713</td>\n",
              "      <td>250.000000</td>\n",
              "      <td>1.000000</td>\n",
              "      <td>2.500000</td>\n",
              "      <td>5.000000</td>\n",
              "    </tr>\n",
              "    <tr>\n",
              "      <th>50%</th>\n",
              "      <td>6.004089e+06</td>\n",
              "      <td>1.000000</td>\n",
              "      <td>77.191964</td>\n",
              "      <td>28.570469</td>\n",
              "      <td>400.000000</td>\n",
              "      <td>2.000000</td>\n",
              "      <td>3.200000</td>\n",
              "      <td>31.000000</td>\n",
              "    </tr>\n",
              "    <tr>\n",
              "      <th>75%</th>\n",
              "      <td>1.835229e+07</td>\n",
              "      <td>1.000000</td>\n",
              "      <td>77.282006</td>\n",
              "      <td>28.642758</td>\n",
              "      <td>700.000000</td>\n",
              "      <td>2.000000</td>\n",
              "      <td>3.700000</td>\n",
              "      <td>131.000000</td>\n",
              "    </tr>\n",
              "    <tr>\n",
              "      <th>max</th>\n",
              "      <td>1.850065e+07</td>\n",
              "      <td>216.000000</td>\n",
              "      <td>174.832089</td>\n",
              "      <td>55.976980</td>\n",
              "      <td>800000.000000</td>\n",
              "      <td>4.000000</td>\n",
              "      <td>4.900000</td>\n",
              "      <td>10934.000000</td>\n",
              "    </tr>\n",
              "  </tbody>\n",
              "</table>\n",
              "</div>\n",
              "    <div class=\"colab-df-buttons\">\n",
              "\n",
              "  <div class=\"colab-df-container\">\n",
              "    <button class=\"colab-df-convert\" onclick=\"convertToInteractive('df-8f441e8b-69af-4fa0-8bdc-9050322aaad7')\"\n",
              "            title=\"Convert this dataframe to an interactive table.\"\n",
              "            style=\"display:none;\">\n",
              "\n",
              "  <svg xmlns=\"http://www.w3.org/2000/svg\" height=\"24px\" viewBox=\"0 -960 960 960\">\n",
              "    <path d=\"M120-120v-720h720v720H120Zm60-500h600v-160H180v160Zm220 220h160v-160H400v160Zm0 220h160v-160H400v160ZM180-400h160v-160H180v160Zm440 0h160v-160H620v160ZM180-180h160v-160H180v160Zm440 0h160v-160H620v160Z\"/>\n",
              "  </svg>\n",
              "    </button>\n",
              "\n",
              "  <style>\n",
              "    .colab-df-container {\n",
              "      display:flex;\n",
              "      gap: 12px;\n",
              "    }\n",
              "\n",
              "    .colab-df-convert {\n",
              "      background-color: #E8F0FE;\n",
              "      border: none;\n",
              "      border-radius: 50%;\n",
              "      cursor: pointer;\n",
              "      display: none;\n",
              "      fill: #1967D2;\n",
              "      height: 32px;\n",
              "      padding: 0 0 0 0;\n",
              "      width: 32px;\n",
              "    }\n",
              "\n",
              "    .colab-df-convert:hover {\n",
              "      background-color: #E2EBFA;\n",
              "      box-shadow: 0px 1px 2px rgba(60, 64, 67, 0.3), 0px 1px 3px 1px rgba(60, 64, 67, 0.15);\n",
              "      fill: #174EA6;\n",
              "    }\n",
              "\n",
              "    .colab-df-buttons div {\n",
              "      margin-bottom: 4px;\n",
              "    }\n",
              "\n",
              "    [theme=dark] .colab-df-convert {\n",
              "      background-color: #3B4455;\n",
              "      fill: #D2E3FC;\n",
              "    }\n",
              "\n",
              "    [theme=dark] .colab-df-convert:hover {\n",
              "      background-color: #434B5C;\n",
              "      box-shadow: 0px 1px 3px 1px rgba(0, 0, 0, 0.15);\n",
              "      filter: drop-shadow(0px 1px 2px rgba(0, 0, 0, 0.3));\n",
              "      fill: #FFFFFF;\n",
              "    }\n",
              "  </style>\n",
              "\n",
              "    <script>\n",
              "      const buttonEl =\n",
              "        document.querySelector('#df-8f441e8b-69af-4fa0-8bdc-9050322aaad7 button.colab-df-convert');\n",
              "      buttonEl.style.display =\n",
              "        google.colab.kernel.accessAllowed ? 'block' : 'none';\n",
              "\n",
              "      async function convertToInteractive(key) {\n",
              "        const element = document.querySelector('#df-8f441e8b-69af-4fa0-8bdc-9050322aaad7');\n",
              "        const dataTable =\n",
              "          await google.colab.kernel.invokeFunction('convertToInteractive',\n",
              "                                                    [key], {});\n",
              "        if (!dataTable) return;\n",
              "\n",
              "        const docLinkHtml = 'Like what you see? Visit the ' +\n",
              "          '<a target=\"_blank\" href=https://colab.research.google.com/notebooks/data_table.ipynb>data table notebook</a>'\n",
              "          + ' to learn more about interactive tables.';\n",
              "        element.innerHTML = '';\n",
              "        dataTable['output_type'] = 'display_data';\n",
              "        await google.colab.output.renderOutput(dataTable, element);\n",
              "        const docLink = document.createElement('div');\n",
              "        docLink.innerHTML = docLinkHtml;\n",
              "        element.appendChild(docLink);\n",
              "      }\n",
              "    </script>\n",
              "  </div>\n",
              "\n",
              "\n",
              "    <div id=\"df-4391abc1-0fae-44c1-b28b-0a529c561596\">\n",
              "      <button class=\"colab-df-quickchart\" onclick=\"quickchart('df-4391abc1-0fae-44c1-b28b-0a529c561596')\"\n",
              "                title=\"Suggest charts\"\n",
              "                style=\"display:none;\">\n",
              "\n",
              "<svg xmlns=\"http://www.w3.org/2000/svg\" height=\"24px\"viewBox=\"0 0 24 24\"\n",
              "     width=\"24px\">\n",
              "    <g>\n",
              "        <path d=\"M19 3H5c-1.1 0-2 .9-2 2v14c0 1.1.9 2 2 2h14c1.1 0 2-.9 2-2V5c0-1.1-.9-2-2-2zM9 17H7v-7h2v7zm4 0h-2V7h2v10zm4 0h-2v-4h2v4z\"/>\n",
              "    </g>\n",
              "</svg>\n",
              "      </button>\n",
              "\n",
              "<style>\n",
              "  .colab-df-quickchart {\n",
              "      --bg-color: #E8F0FE;\n",
              "      --fill-color: #1967D2;\n",
              "      --hover-bg-color: #E2EBFA;\n",
              "      --hover-fill-color: #174EA6;\n",
              "      --disabled-fill-color: #AAA;\n",
              "      --disabled-bg-color: #DDD;\n",
              "  }\n",
              "\n",
              "  [theme=dark] .colab-df-quickchart {\n",
              "      --bg-color: #3B4455;\n",
              "      --fill-color: #D2E3FC;\n",
              "      --hover-bg-color: #434B5C;\n",
              "      --hover-fill-color: #FFFFFF;\n",
              "      --disabled-bg-color: #3B4455;\n",
              "      --disabled-fill-color: #666;\n",
              "  }\n",
              "\n",
              "  .colab-df-quickchart {\n",
              "    background-color: var(--bg-color);\n",
              "    border: none;\n",
              "    border-radius: 50%;\n",
              "    cursor: pointer;\n",
              "    display: none;\n",
              "    fill: var(--fill-color);\n",
              "    height: 32px;\n",
              "    padding: 0;\n",
              "    width: 32px;\n",
              "  }\n",
              "\n",
              "  .colab-df-quickchart:hover {\n",
              "    background-color: var(--hover-bg-color);\n",
              "    box-shadow: 0 1px 2px rgba(60, 64, 67, 0.3), 0 1px 3px 1px rgba(60, 64, 67, 0.15);\n",
              "    fill: var(--button-hover-fill-color);\n",
              "  }\n",
              "\n",
              "  .colab-df-quickchart-complete:disabled,\n",
              "  .colab-df-quickchart-complete:disabled:hover {\n",
              "    background-color: var(--disabled-bg-color);\n",
              "    fill: var(--disabled-fill-color);\n",
              "    box-shadow: none;\n",
              "  }\n",
              "\n",
              "  .colab-df-spinner {\n",
              "    border: 2px solid var(--fill-color);\n",
              "    border-color: transparent;\n",
              "    border-bottom-color: var(--fill-color);\n",
              "    animation:\n",
              "      spin 1s steps(1) infinite;\n",
              "  }\n",
              "\n",
              "  @keyframes spin {\n",
              "    0% {\n",
              "      border-color: transparent;\n",
              "      border-bottom-color: var(--fill-color);\n",
              "      border-left-color: var(--fill-color);\n",
              "    }\n",
              "    20% {\n",
              "      border-color: transparent;\n",
              "      border-left-color: var(--fill-color);\n",
              "      border-top-color: var(--fill-color);\n",
              "    }\n",
              "    30% {\n",
              "      border-color: transparent;\n",
              "      border-left-color: var(--fill-color);\n",
              "      border-top-color: var(--fill-color);\n",
              "      border-right-color: var(--fill-color);\n",
              "    }\n",
              "    40% {\n",
              "      border-color: transparent;\n",
              "      border-right-color: var(--fill-color);\n",
              "      border-top-color: var(--fill-color);\n",
              "    }\n",
              "    60% {\n",
              "      border-color: transparent;\n",
              "      border-right-color: var(--fill-color);\n",
              "    }\n",
              "    80% {\n",
              "      border-color: transparent;\n",
              "      border-right-color: var(--fill-color);\n",
              "      border-bottom-color: var(--fill-color);\n",
              "    }\n",
              "    90% {\n",
              "      border-color: transparent;\n",
              "      border-bottom-color: var(--fill-color);\n",
              "    }\n",
              "  }\n",
              "</style>\n",
              "\n",
              "      <script>\n",
              "        async function quickchart(key) {\n",
              "          const quickchartButtonEl =\n",
              "            document.querySelector('#' + key + ' button');\n",
              "          quickchartButtonEl.disabled = true;  // To prevent multiple clicks.\n",
              "          quickchartButtonEl.classList.add('colab-df-spinner');\n",
              "          try {\n",
              "            const charts = await google.colab.kernel.invokeFunction(\n",
              "                'suggestCharts', [key], {});\n",
              "          } catch (error) {\n",
              "            console.error('Error during call to suggestCharts:', error);\n",
              "          }\n",
              "          quickchartButtonEl.classList.remove('colab-df-spinner');\n",
              "          quickchartButtonEl.classList.add('colab-df-quickchart-complete');\n",
              "        }\n",
              "        (() => {\n",
              "          let quickchartButtonEl =\n",
              "            document.querySelector('#df-4391abc1-0fae-44c1-b28b-0a529c561596 button');\n",
              "          quickchartButtonEl.style.display =\n",
              "            google.colab.kernel.accessAllowed ? 'block' : 'none';\n",
              "        })();\n",
              "      </script>\n",
              "    </div>\n",
              "\n",
              "    </div>\n",
              "  </div>\n"
            ],
            "application/vnd.google.colaboratory.intrinsic+json": {
              "type": "dataframe",
              "summary": "{\n  \"name\": \"Restaurant_df\",\n  \"rows\": 8,\n  \"fields\": [\n    {\n      \"column\": \"Restaurant ID\",\n      \"properties\": {\n        \"dtype\": \"number\",\n        \"std\": 7645150.642496776,\n        \"min\": 53.0,\n        \"max\": 18500652.0,\n        \"num_unique_values\": 8,\n        \"samples\": [\n          9051128.349178096,\n          6004089.0,\n          9551.0\n        ],\n        \"semantic_type\": \"\",\n        \"description\": \"\"\n      }\n    },\n    {\n      \"column\": \"Country Code\",\n      \"properties\": {\n        \"dtype\": \"number\",\n        \"std\": 3362.6853318315943,\n        \"min\": 1.0,\n        \"max\": 9551.0,\n        \"num_unique_values\": 5,\n        \"samples\": [\n          18.365616165846507,\n          216.0,\n          56.750545600949856\n        ],\n        \"semantic_type\": \"\",\n        \"description\": \"\"\n      }\n    },\n    {\n      \"column\": \"Longitude\",\n      \"properties\": {\n        \"dtype\": \"number\",\n        \"std\": 3360.2106786503405,\n        \"min\": -157.948486,\n        \"max\": 9551.0,\n        \"num_unique_values\": 8,\n        \"samples\": [\n          64.12657446168706,\n          77.1919642,\n          9551.0\n        ],\n        \"semantic_type\": \"\",\n        \"description\": \"\"\n      }\n    },\n    {\n      \"column\": \"Latitude\",\n      \"properties\": {\n        \"dtype\": \"number\",\n        \"std\": 3369.972988568076,\n        \"min\": -41.330428,\n        \"max\": 9551.0,\n        \"num_unique_values\": 8,\n        \"samples\": [\n          25.854380700074756,\n          28.57046888,\n          9551.0\n        ],\n        \"semantic_type\": \"\",\n        \"description\": \"\"\n      }\n    },\n    {\n      \"column\": \"Average Cost for two\",\n      \"properties\": {\n        \"dtype\": \"number\",\n        \"std\": 281478.0961029089,\n        \"min\": 0.0,\n        \"max\": 800000.0,\n        \"num_unique_values\": 8,\n        \"samples\": [\n          1199.2107632708617,\n          400.0,\n          9551.0\n        ],\n        \"semantic_type\": \"\",\n        \"description\": \"\"\n      }\n    },\n    {\n      \"column\": \"Price range\",\n      \"properties\": {\n        \"dtype\": \"number\",\n        \"std\": 3376.1466071461127,\n        \"min\": 0.9056088473975366,\n        \"max\": 9551.0,\n        \"num_unique_values\": 6,\n        \"samples\": [\n          9551.0,\n          1.804837189823055,\n          4.0\n        ],\n        \"semantic_type\": \"\",\n        \"description\": \"\"\n      }\n    },\n    {\n      \"column\": \"Aggregate rating\",\n      \"properties\": {\n        \"dtype\": \"number\",\n        \"std\": 3375.855226922187,\n        \"min\": 0.0,\n        \"max\": 9551.0,\n        \"num_unique_values\": 8,\n        \"samples\": [\n          2.66637001361114,\n          3.2,\n          9551.0\n        ],\n        \"semantic_type\": \"\",\n        \"description\": \"\"\n      }\n    },\n    {\n      \"column\": \"Votes\",\n      \"properties\": {\n        \"dtype\": \"number\",\n        \"std\": 4699.7638410944965,\n        \"min\": 0.0,\n        \"max\": 10934.0,\n        \"num_unique_values\": 8,\n        \"samples\": [\n          156.909747670401,\n          31.0,\n          9551.0\n        ],\n        \"semantic_type\": \"\",\n        \"description\": \"\"\n      }\n    }\n  ]\n}"
            }
          },
          "metadata": {},
          "execution_count": 11
        }
      ]
    },
    {
      "cell_type": "markdown",
      "source": [
        "# **📌 Initial Observations:**"
      ],
      "metadata": {
        "id": "iXf-7AIXFKjG"
      }
    },
    {
      "cell_type": "markdown",
      "source": [
        "*   The dataset provides information on restaurants across various countries, including their cuisines, ratings, votes, and costs.\n",
        "*   It contains 9,551 rows and 21 columns.\n",
        "*   The ‘Cuisines’ column has 9 missing values, while all other columns are complete. These nulls can be handled through domain knowledge or external research.\n",
        "*   No exact duplicates were found. However, there are restaurants with identical names but varying attributes, likely due to chains or franchises.\n",
        "*   Columns such as ‘Aggregate Rating’, ‘Votes’, and ‘Average Cost for Two’ include zero values, which may indicate missing or default entries and should be addressed during data cleaning."
      ],
      "metadata": {
        "id": "lQFLmZ5cGPU-"
      }
    },
    {
      "cell_type": "markdown",
      "source": [
        "# **Level 1**"
      ],
      "metadata": {
        "id": "9vLycjwatHry"
      }
    },
    {
      "cell_type": "markdown",
      "source": [
        "**Task 1: Top Cuisines**"
      ],
      "metadata": {
        "id": "gj8XHFl_u8Dh"
      }
    },
    {
      "cell_type": "code",
      "source": [
        "# Top three most common cuisines\n",
        "\n",
        "Cuisine_counts = Restaurant_df[\"Cuisines\"].dropna().str.split(\",\\\\s*\").explode().str.strip().value_counts()\n",
        "Top_3_cuisines = Cuisine_counts.head(3)\n",
        "\n",
        "# Percentage of restaurants that serve each of the top cuisines.\n",
        "\n",
        "Total_restaurants = len(Restaurant_df)\n",
        "Top_3_cuisines_percentage = (Top_3_cuisines / Total_restaurants) * 100\n",
        "\n",
        "print(\"Top 3 Most Common Cuisines:\")\n",
        "for cuisine, count, percentage in zip(Top_3_cuisines.index, Top_3_cuisines.values, Top_3_cuisines_percentage.values):\n",
        "    print(f\"{cuisine:<20} | {count:>5} restaurants | {percentage:6.2f}%\")"
      ],
      "metadata": {
        "colab": {
          "base_uri": "https://localhost:8080/"
        },
        "id": "pwcmt-TptL7v",
        "outputId": "3d5892c1-66c8-44d6-beff-25f2d998b586"
      },
      "execution_count": 3,
      "outputs": [
        {
          "output_type": "stream",
          "name": "stdout",
          "text": [
            "Top 3 Most Common Cuisines:\n",
            "North Indian         |  3960 restaurants |  41.46%\n",
            "Chinese              |  2735 restaurants |  28.64%\n",
            "Fast Food            |  1986 restaurants |  20.79%\n"
          ]
        }
      ]
    },
    {
      "cell_type": "markdown",
      "source": [
        "**Task 2: City Analysis**"
      ],
      "metadata": {
        "id": "fRsTYFpdu_4k"
      }
    },
    {
      "cell_type": "code",
      "source": [
        "# Creating a New Column to be used for weighted rating later\n",
        "\n",
        "Restaurant_df['Weight_rating'] = Restaurant_df['Aggregate rating']*Restaurant_df['Votes']"
      ],
      "metadata": {
        "id": "24m9uFZiD7Sd"
      },
      "execution_count": 4,
      "outputs": []
    },
    {
      "cell_type": "code",
      "source": [
        "# City with the highest number of restaurants in the dataset.\n",
        "\n",
        "city_counts = Restaurant_df['City'].value_counts().reset_index()\n",
        "city_counts.columns = ['City', 'Restaurant_Count']\n",
        "top_city = city_counts.iloc[0]\n",
        "\n",
        "print(f\"City with highest number of restaurants: \\n{top_city['City']} ({top_city['Restaurant_Count']} restaurants)\")"
      ],
      "metadata": {
        "colab": {
          "base_uri": "https://localhost:8080/"
        },
        "id": "a-OnH8JhvE1q",
        "outputId": "2612e08f-beb5-4117-ea01-cb75ec78dbaa"
      },
      "execution_count": 5,
      "outputs": [
        {
          "output_type": "stream",
          "name": "stdout",
          "text": [
            "City with highest number of restaurants: \n",
            "New Delhi (5473 restaurants)\n"
          ]
        }
      ]
    },
    {
      "cell_type": "code",
      "source": [
        "# Average rating for restaurants in each city.\n",
        "\n",
        "filtered_df = Restaurant_df[(Restaurant_df['Votes'] > 30) & (Restaurant_df['Rating color'] != 'Not rated')]\n",
        "\n",
        "city_rating = filtered_df.groupby('City').agg({\n",
        "    'Weight_rating': 'sum',\n",
        "    'Votes': 'sum',\n",
        "    'Aggregate rating': 'mean'\n",
        "}).reset_index()\n",
        "\n",
        "# Calculate weighted rating as sum(Weight_rating) / sum(Votes)\n",
        "city_rating['Weighted_rating'] = round(city_rating['Weight_rating'] / city_rating['Votes'], 1)\n",
        "\n",
        "# print(\"\\nAverage Ratings by City (Weighted):\\n\")\n",
        "print(city_rating[['City', 'Weighted_rating']].sort_values(by='Weighted_rating', ascending=False))"
      ],
      "metadata": {
        "colab": {
          "base_uri": "https://localhost:8080/"
        },
        "id": "VDVotWXJm5o3",
        "outputId": "179a5761-372b-49f8-d232-21e0fe24a190"
      },
      "execution_count": 6,
      "outputs": [
        {
          "output_type": "stream",
          "name": "stdout",
          "text": [
            "                       City  Weighted_rating\n",
            "48               Inner City              4.9\n",
            "109               Tangerang              4.8\n",
            "95           Rio de Janeiro              4.8\n",
            "91              Quezon City              4.8\n",
            "82               Pasig City              4.7\n",
            "59                   London              4.6\n",
            "66         Mandaluyong City              4.6\n",
            "12               Beechworth              4.6\n",
            "64              Makati City              4.6\n",
            "58                  Lincoln              4.5\n",
            "11                Bangalore              4.5\n",
            "78                  Orlando              4.5\n",
            "46                Hyderabad              4.5\n",
            "51                  Jakarta              4.5\n",
            "94           Rest of Hawaii              4.5\n",
            "106           Tagaytay City              4.5\n",
            "108               Tampa Bay              4.5\n",
            "107             Taguig City              4.5\n",
            "100            Secunderabad              4.5\n",
            "110                 Tanunda              4.4\n",
            "81               Pasay City              4.4\n",
            "79                Palm Cove              4.4\n",
            "30               Des Moines              4.4\n",
            "32                    Dubai              4.4\n",
            "8                  Auckland              4.4\n",
            "7                    Athens              4.3\n",
            "17                    Boise              4.3\n",
            "50                   Jaipur              4.3\n",
            "35                Edinburgh              4.3\n",
            "23               Clatskanie              4.3\n",
            "22                  Chennai              4.3\n",
            "90                     Pune              4.3\n",
            "84                Pensacola              4.3\n",
            "69                   Mohali              4.3\n",
            "65               Manchester              4.3\n",
            "60                  Lucknow              4.3\n",
            "117        Vineland Station              4.3\n",
            "121         Wellington City              4.3\n",
            "122               ��stanbul              4.3\n",
            "115                Vernonia              4.3\n",
            "105              S��o Paulo              4.3\n",
            "97                  Sandton              4.3\n",
            "93                 Randburg              4.3\n",
            "6                    Ankara              4.3\n",
            "0                 Abu Dhabi              4.3\n",
            "43                 Guwahati              4.3\n",
            "55                  Kolkata              4.3\n",
            "19   Cedar Rapids/Iowa City              4.3\n",
            "41                      Goa              4.2\n",
            "80                Panchkula              4.2\n",
            "87                 Pretoria              4.2\n",
            "27                   Dalton              4.2\n",
            "9                   Augusta              4.2\n",
            "24               Coimbatore              4.2\n",
            "15               Birmingham              4.2\n",
            "28                Davenport              4.2\n",
            "39              Gainesville              4.2\n",
            "18                Cape Town              4.2\n",
            "2                 Ahmedabad              4.2\n",
            "99                 Savannah              4.2\n",
            "96            San Juan City              4.2\n",
            "72                   Mumbai              4.2\n",
            "63                    Macon              4.2\n",
            "112                Vadodara              4.1\n",
            "101                 Sharjah              4.1\n",
            "118                   Vizag              4.1\n",
            "111           Trentham East              4.1\n",
            "34             East Ballina              4.1\n",
            "31                     Doha              4.1\n",
            "52             Johannesburg              4.1\n",
            "54                    Kochi              4.1\n",
            "13                   Bhopal              4.1\n",
            "45                Huskisson              4.1\n",
            "74                   Nagpur              4.1\n",
            "61                 Ludhiana              4.1\n",
            "20               Chandigarh              4.1\n",
            "26                 Columbus              4.1\n",
            "98               Santa Rosa              4.0\n",
            "88                Princeton              4.0\n",
            "47                   Indore              4.0\n",
            "1                      Agra              4.0\n",
            "14             Bhubaneshwar              4.0\n",
            "29                 Dehradun              4.0\n",
            "104                   Surat              4.0\n",
            "16                    Bogor              3.9\n",
            "25                  Colombo              3.9\n",
            "120                 Weirton              3.9\n",
            "53                   Kanpur              3.9\n",
            "42                  Gurgaon              3.8\n",
            "44          Hepburn Springs              3.8\n",
            "56           Lakes Entrance              3.8\n",
            "103              Sioux City              3.8\n",
            "113                Valdosta              3.8\n",
            "73                   Mysore              3.8\n",
            "5                  Amritsar              3.8\n",
            "76                New Delhi              3.8\n",
            "68          Middleton Beach              3.8\n",
            "67                Mangalore              3.8\n",
            "85           Phillip Island              3.7\n",
            "3                    Albany              3.7\n",
            "21             Chatham-Kent              3.7\n",
            "36                Faridabad              3.7\n",
            "119                Waterloo              3.7\n",
            "86                Pocatello              3.7\n",
            "89               Puducherry              3.7\n",
            "37                  Fernley              3.7\n",
            "49                Inverloch              3.7\n",
            "102               Singapore              3.6\n",
            "92                   Ranchi              3.6\n",
            "114                Varanasi              3.6\n",
            "116           Victor Harbor              3.6\n",
            "57                 Lakeview              3.6\n",
            "33                  Dubuque              3.6\n",
            "75                   Nashik              3.6\n",
            "70                   Monroe              3.6\n",
            "62                  Macedon              3.5\n",
            "83                    Patna              3.5\n",
            "77                    Noida              3.5\n",
            "38                  Flaxton              3.5\n",
            "10               Aurangabad              3.4\n",
            "4                 Allahabad              3.4\n",
            "40                Ghaziabad              3.0\n",
            "71                Montville              2.4\n"
          ]
        }
      ]
    },
    {
      "cell_type": "code",
      "source": [
        "# City with the highest average rating.\n",
        "top_city_by_avg_rating = city_rating.sort_values(by='Aggregate rating', ascending=False).head(1)\n",
        "print(\"\\nCity with Highest Average Rating:\\n\")\n",
        "print(top_city_by_avg_rating[['City', 'Aggregate rating']])"
      ],
      "metadata": {
        "colab": {
          "base_uri": "https://localhost:8080/"
        },
        "id": "SJvCwN7AnbSP",
        "outputId": "5261deb8-1e2d-4c52-c7d2-65ac7147b851"
      },
      "execution_count": 7,
      "outputs": [
        {
          "output_type": "stream",
          "name": "stdout",
          "text": [
            "\n",
            "City with Highest Average Rating:\n",
            "\n",
            "          City  Aggregate rating\n",
            "48  Inner City               4.9\n"
          ]
        }
      ]
    },
    {
      "cell_type": "markdown",
      "source": [
        "**Task 3: Price Range Distribution**"
      ],
      "metadata": {
        "id": "qqNL7MGIvFQ-"
      }
    },
    {
      "cell_type": "code",
      "source": [
        "# Histogram chart to visualize the distribution of price ranges among the restaurants.\n",
        "\n",
        "# Set the figure size for better visibility\n",
        "plt.figure(figsize=(10, 7.5))\n",
        "\n",
        "# Create a histogram to show how restaurants are distributed across different price ranges\n",
        "sns.histplot(data=Restaurant_df, x='Price range', bins=4, kde=False,palette={1:'red', 2:'yellow', 3:'blue', 4:'black'}, hue='Price range')\n",
        "plt.ylabel('Number of Restaurants', fontdict={'fontsize': 16, 'fontweight': 'bold'})\n",
        "plt.xlabel('Price Range', fontdict={'fontsize': 16, 'fontweight': 'bold'})\n",
        "plt.title('Distribution Of Price Ranges Across Restaurants', fontdict={'fontsize': 22, 'fontweight': 'bold'})\n",
        "plt.tight_layout()\n",
        "plt.show()"
      ],
      "metadata": {
        "colab": {
          "base_uri": "https://localhost:8080/",
          "height": 757
        },
        "id": "JW2FN33IvJ1K",
        "outputId": "5dc964a6-b452-414a-eeaa-732eadfd8fd9"
      },
      "execution_count": 59,
      "outputs": [
        {
          "output_type": "display_data",
          "data": {
            "text/plain": [
              "<Figure size 1000x750 with 1 Axes>"
            ],
            "image/png": "[encoded data removed]"
          },
          "metadata": {}
        }
      ]
    },
    {
      "cell_type": "code",
      "source": [
        "# Percentage of restaurants in each price range category.\n",
        "\n",
        "total_restaurants = Restaurant_df['Restaurant ID'].nunique()\n",
        "for price in range(1, 5):\n",
        "    count = Restaurant_df[Restaurant_df['Price range'] == price]['Restaurant ID'].nunique()\n",
        "    percentage = round((count * 100) / total_restaurants, 2)\n",
        "    print(f\"Percentage of restaurants with price range {price} is: {percentage} %\")"
      ],
      "metadata": {
        "colab": {
          "base_uri": "https://localhost:8080/"
        },
        "id": "LyxFHBZaDxDK",
        "outputId": "f47f1617-793b-4724-dc2f-f407a76dcc32"
      },
      "execution_count": 9,
      "outputs": [
        {
          "output_type": "stream",
          "name": "stdout",
          "text": [
            "Percentage of restaurants with price range 1 is: 46.53 %\n",
            "Percentage of restaurants with price range 2 is: 32.59 %\n",
            "Percentage of restaurants with price range 3 is: 14.74 %\n",
            "Percentage of restaurants with price range 4 is: 6.14 %\n"
          ]
        }
      ]
    },
    {
      "cell_type": "markdown",
      "source": [
        "**Task 4: Online Delivery**"
      ],
      "metadata": {
        "id": "CL76i_k0xbEX"
      }
    },
    {
      "cell_type": "code",
      "source": [
        "# Percentage of restaurants that offer online delivery.\n",
        "\n",
        "percentage_online_delivery = round((Restaurant_df[Restaurant_df['Has Online delivery'] == 'Yes'].shape[0] * 100) / Restaurant_df.shape[0], 2)\n",
        "print(f\"{percentage_online_delivery} % of Restaurants offer online delivery.\")"
      ],
      "metadata": {
        "colab": {
          "base_uri": "https://localhost:8080/"
        },
        "id": "DJ63Dhn6xdRB",
        "outputId": "86f7814d-4687-44f9-85ca-357752e54a92"
      },
      "execution_count": 10,
      "outputs": [
        {
          "output_type": "stream",
          "name": "stdout",
          "text": [
            "25.66 % of Restaurants offer online delivery.\n"
          ]
        }
      ]
    },
    {
      "cell_type": "code",
      "source": [
        "# Average ratings of restaurants with and without online delivery.\n",
        "\n",
        "Restaurant_df1 = Restaurant_df[(Restaurant_df['Rating text']!='Not rated')&(Restaurant_df['Votes']>30)].groupby('Has Online delivery').agg({'Weight_rating':'sum','Votes':'sum'}).reset_index()\n",
        "\n",
        "# Dividing the Weighted Rating denominator with total votes\n",
        "Restaurant_df1['Weighted_rating']=round(Restaurant_df1['Weight_rating']/Restaurant_df1['Votes'],1)\n",
        "\n",
        "print(f\"Average rating of Restaurants with Online Delivery: {float(Restaurant_df1[Restaurant_df1['Has Online delivery'] == 'Yes']['Weighted_rating'].iloc[0])}\")\n",
        "print(f\"Average rating of Restaurants without Online Delivery: {float(Restaurant_df1[Restaurant_df1['Has Online delivery'] == 'No']['Weighted_rating'].iloc[0])}\")"
      ],
      "metadata": {
        "colab": {
          "base_uri": "https://localhost:8080/"
        },
        "id": "kjkTJii3Ws8N",
        "outputId": "4870a927-ad4b-40e6-824d-21aec299a524"
      },
      "execution_count": 11,
      "outputs": [
        {
          "output_type": "stream",
          "name": "stdout",
          "text": [
            "Average rating of Restaurants with Online Delivery: 3.8\n",
            "Average rating of Restaurants without Online Delivery: 4.1\n"
          ]
        }
      ]
    },
    {
      "cell_type": "markdown",
      "source": [
        "# **Visualization for Level 1**"
      ],
      "metadata": {
        "id": "Ieuda3ow6zZ8"
      }
    },
    {
      "cell_type": "markdown",
      "source": [
        "**Task 1: Top Cuisines**"
      ],
      "metadata": {
        "id": "AgB0zThn7And"
      }
    },
    {
      "cell_type": "code",
      "source": [
        "# Seting the visual style of the plot for better aesthetics\n",
        "\n",
        "plt.style.use(\"seaborn-v0_8-whitegrid\")\n",
        "custom_colors = ['red', 'yellow', 'blue']\n",
        "sns.barplot(x=Top_3_cuisines.index, y=Top_3_cuisines.values,palette=custom_colors)\n",
        "plt.title(\"Top 3 Most Common Cuisines\")\n",
        "plt.xlabel(\"Cuisine Type\")\n",
        "plt.ylabel(\"Number of Restaurants\")\n",
        "plt.show()"
      ],
      "metadata": {
        "colab": {
          "base_uri": "https://localhost:8080/",
          "height": 465
        },
        "id": "Cg91EMVe7JdI",
        "outputId": "504c5e1b-093c-445d-c02e-c7e2866a2fbc"
      },
      "execution_count": 58,
      "outputs": [
        {
          "output_type": "display_data",
          "data": {
            "text/plain": [
              "<Figure size 640x480 with 1 Axes>"
            ],
            "image/png": "[encoded data removed]"
          },
          "metadata": {}
        }
      ]
    },
    {
      "cell_type": "markdown",
      "source": [
        "**Reason to pick the specific chart?**\n",
        "\n",
        "A bar chart was chosen for this visualization because it is one of the most effective ways to represent and compare categorical data such as cuisine types."
      ],
      "metadata": {
        "id": "nAw-1ZH18Uo7"
      }
    },
    {
      "cell_type": "markdown",
      "source": [
        "**Task 2: City Analysis**"
      ],
      "metadata": {
        "id": "vtye6sNL7obw"
      }
    },
    {
      "cell_type": "code",
      "source": [
        "# Counting the number of restaurants in each city and selected the top 3\n",
        "\n",
        "city_counts = Restaurant_df['City'].value_counts().reset_index().head(3)\n",
        "city_counts.columns = ['City', 'Count']\n",
        "plt.figure(figsize=(8, 8))\n",
        "colors = ['red', 'yellow', 'blue']\n",
        "\n",
        "# Create a pie chart showing the top 3 cities by restaurant count\n",
        "plt.pie(city_counts['Count'],\n",
        "        labels=city_counts['City'],\n",
        "        autopct='%1.1f%%',\n",
        "        colors=colors,\n",
        "        startangle=140,\n",
        "        textprops={'fontsize': 14, 'fontweight': 'bold'})\n",
        "plt.title('Top 3 Cities by Number of Restaurants', fontsize=22, fontweight='bold')\n",
        "plt.tight_layout()\n",
        "plt.show()"
      ],
      "metadata": {
        "colab": {
          "base_uri": "https://localhost:8080/",
          "height": 807
        },
        "id": "c8gGndPQ73dI",
        "outputId": "2c4326f9-32e8-4dfb-ee27-24165f83ea23"
      },
      "execution_count": 57,
      "outputs": [
        {
          "output_type": "display_data",
          "data": {
            "text/plain": [
              "<Figure size 800x800 with 1 Axes>"
            ],
            "image/png": "[encoded data removed]"
          },
          "metadata": {}
        }
      ]
    },
    {
      "cell_type": "markdown",
      "source": [
        "**Reason to pick the specific chart?**\n",
        "\n",
        "A Pie chart type is ideal when you want to communicate relative shares or percentages, offering a quick visual understanding of how each city’s restaurant count compares to the others."
      ],
      "metadata": {
        "id": "CaMeJIJjD4L7"
      }
    },
    {
      "cell_type": "markdown",
      "source": [
        "**Task 4: Online Delivery**"
      ],
      "metadata": {
        "id": "hdO-8wkaAT7m"
      }
    },
    {
      "cell_type": "code",
      "source": [
        "# Set the figure size for better visibility\n",
        "\n",
        "plt.figure(figsize=(7, 5))\n",
        "custom_colors = ['red', 'yellow']\n",
        "\n",
        "# Create a bar plot comparing average weighted ratings\n",
        "# between restaurants that offer online delivery and those that do not\n",
        "sns.barplot(data=Restaurant_df1, x='Has Online delivery', y='Weighted_rating', hue='Has Online delivery',  palette=custom_colors)\n",
        "plt.title('Average Restaurant Ratings: Online Delivery vs Not', fontsize=16, fontweight='bold')\n",
        "plt.xlabel('Online Delivery Availability', fontsize=14, fontweight='bold')\n",
        "plt.ylabel('Average Weighted Rating', fontsize=14, fontweight='bold')\n",
        "\n",
        "# Annotate each bar with its exact value above the bar for readability\n",
        "for index, row in Restaurant_df1.iterrows():\n",
        "    plt.text(index, row['Weighted_rating']+0.07, f\"{row['Weighted_rating']}\", ha='center', fontsize=12, fontweight='bold')\n",
        "plt.tight_layout()\n",
        "plt.show()"
      ],
      "metadata": {
        "colab": {
          "base_uri": "https://localhost:8080/",
          "height": 507
        },
        "id": "0DuI6zodAAcS",
        "outputId": "d5b0bb48-0541-4774-8ba5-d7aebbbe58a7"
      },
      "execution_count": 60,
      "outputs": [
        {
          "output_type": "display_data",
          "data": {
            "text/plain": [
              "<Figure size 700x500 with 1 Axes>"
            ],
            "image/png": "[encoded data removed]"
          },
          "metadata": {}
        }
      ]
    },
    {
      "cell_type": "markdown",
      "source": [
        "**Reason to pick the specific chart?**\n",
        "\n",
        "A Bar chart was chosen for visualizing the average restaurant ratings with and without online delivery because it provides a clear, straightforward comparison between these two categorical groups."
      ],
      "metadata": {
        "id": "delQ5XAyEgdv"
      }
    },
    {
      "cell_type": "markdown",
      "source": [
        "# **Insight's From Level 1**"
      ],
      "metadata": {
        "id": "MmDztQAsLPau"
      }
    },
    {
      "cell_type": "markdown",
      "source": [
        "*   Top 3 Cuisines in the dataset are:\n",
        "  \n",
        "1.   North Indian\n",
        "2.   Chinese\n",
        "1.   Fast Food\n",
        "\n",
        "*   Percentage of restaurants serving each are:\n",
        "\n",
        "1.   North Indian: 41.5 %\n",
        "2.   Chinese: 28.64 %\n",
        "1.   Fast Food: 20.81 %\n",
        "\n",
        "*   New Delhi is the City with the highest number of restaurants in the dataset\n",
        "\n",
        "*   After calculating the average rating for each city, it was found that Inner City has the highest average rating.\n",
        "\n",
        "*   Majority of restaurants were found to belong to price range 1, followed by 2, 3 and lastly, 4\n",
        "\n",
        "*   Only 25.66% of the restaurants in the dataset were found to be offering online delivery"
      ],
      "metadata": {
        "id": "N9S7stKqLbGF"
      }
    },
    {
      "cell_type": "markdown",
      "source": [
        "# **Decisions Based on Insight's from Level 1**"
      ],
      "metadata": {
        "id": "pqZxIzGvT62Z"
      }
    },
    {
      "cell_type": "markdown",
      "source": [
        "**Decisions from Cuisine Popularity:**\n",
        "\n",
        "* Focus marketing and menu development on North Indian, Chinese, and Fast Food cuisines, as they dominate the market share (>90% combined). Tailoring promotions and specials around these can attract the largest customer base.\n",
        "\n",
        "* Consider regional variations to explore trending cuisines beyond these top three for niche targeting.\n",
        "\n",
        "**City Insights:**\n",
        "\n",
        "* Since New Delhi has the highest number of restaurants, presence in this city is vital for capturing market share and competition.\n",
        "\n",
        "* Invest in quality improvement and customer experience enhancements particularly in cities like Inner City, which has the highest average rating, to leverage reputation for customer loyalty and premium positioning.\n",
        "\n",
        "**Pricing Strategy:**\n",
        "\n",
        "* Majority of restaurants are in price range 1 followed by 2, 3, and 4, indicating the demand skews towards affordable to mid-range offerings.\n",
        "\n",
        "* Consider tiered pricing and value meal options for high-volume lower price range customers, and premium offerings for upscale segments.\n",
        "\n",
        "**Online Delivery Expansion:**\n",
        "\n",
        "* With only 25.66% of restaurants offering online delivery, there is a significant opportunity to expand this service.\n",
        "\n",
        "* Restaurants could consider partnering with delivery platforms, developing their own delivery capabilities, or offering exclusive online promotions to capture growing demand for convenience."
      ],
      "metadata": {
        "id": "pK44wpZ0TBVm"
      }
    },
    {
      "cell_type": "markdown",
      "source": [
        "# **Level 3**"
      ],
      "metadata": {
        "id": "PRzp9x4CvLYd"
      }
    },
    {
      "cell_type": "markdown",
      "source": [
        "**Task 1: Restaurant Reviews**"
      ],
      "metadata": {
        "id": "t6QwrGZ1vN9V"
      }
    },
    {
      "cell_type": "code",
      "source": [
        "# Text reviews to identify the most common positive and negative keywords.\n",
        "\n",
        "positive_words = [\"Excellent\", \"Very Good\", \"Good\"]\n",
        "negative_words = [\"Poor\"]\n",
        "\n",
        "positive_count = Counter()\n",
        "negative_count = Counter()\n",
        "\n",
        "for text in Restaurant_df[\"Rating text\"]:\n",
        "    words = text.split()\n",
        "\n",
        "    for word in words:\n",
        "        if word in positive_words:\n",
        "            positive_count[word] += 1\n",
        "\n",
        "    for word in words:\n",
        "        if word in negative_words:\n",
        "            negative_count[word] += 1\n",
        "\n",
        "print(\"Most common positive words:\", positive_count)\n",
        "print(\"Most common negative words:\", negative_count)"
      ],
      "metadata": {
        "id": "NR5BF2HIvQKt",
        "colab": {
          "base_uri": "https://localhost:8080/"
        },
        "outputId": "3cbc8e6a-66be-4c77-c55d-9371d54dd591"
      },
      "execution_count": 37,
      "outputs": [
        {
          "output_type": "stream",
          "name": "stdout",
          "text": [
            "Most common positive words: Counter({'Good': 3179, 'Excellent': 301})\n",
            "Most common negative words: Counter({'Poor': 186})\n"
          ]
        }
      ]
    },
    {
      "cell_type": "code",
      "source": [
        "# Average length of reviews\n",
        "\n",
        "Restaurant_df['Review Length']=Restaurant_df['Rating text'].apply(lambda x: len(x.split()))\n",
        "average_review_length=Restaurant_df['Review Length'].mean()\n",
        "print(f'Average Review Length: {average_review_length:.2f}characters')\n",
        "\n",
        "# Relationship between review length and rating\n",
        "\n",
        "correlation_coefficient=Restaurant_df[['Aggregate rating','Review Length']].corr().iloc[0,1]\n",
        "print(f'Correlation coefficient: {correlation_coefficient:.2f}')"
      ],
      "metadata": {
        "id": "WBnSRWnQcPsB",
        "colab": {
          "base_uri": "https://localhost:8080/"
        },
        "outputId": "ffd968be-d758-4ef3-ff6f-d394bc4ff479"
      },
      "execution_count": 38,
      "outputs": [
        {
          "output_type": "stream",
          "name": "stdout",
          "text": [
            "Average Review Length: 1.34characters\n",
            "Correlation coefficient: -0.60\n"
          ]
        }
      ]
    },
    {
      "cell_type": "markdown",
      "source": [
        "**Task 2: Votes Analysis**"
      ],
      "metadata": {
        "id": "2HFYb_ChvQu-"
      }
    },
    {
      "cell_type": "code",
      "source": [
        "# Restaurants with the highest and lowest number of votes\n",
        "\n",
        "# Restaurants with the highest number of votes\n",
        "restaurant_highest_votes = Restaurant_df.loc[Restaurant_df['Votes'].idxmax()]\n",
        "print('Restaurant with highest vote number is:')\n",
        "print(restaurant_highest_votes[['Restaurant Name', 'Votes']])\n",
        "print('\\n')\n",
        "\n",
        "# Restaurants with the lowest number of votes\n",
        "restaurant_lowest_votes = Restaurant_df.loc[Restaurant_df['Votes'].idxmin()]\n",
        "print('Restaurant with lowest vote number is:')\n",
        "print(restaurant_lowest_votes[['Restaurant Name', 'Votes']])"
      ],
      "metadata": {
        "id": "VF6Epc3EvSrb",
        "colab": {
          "base_uri": "https://localhost:8080/"
        },
        "outputId": "0f68be61-d97e-4c05-89d6-e5abba09db6a"
      },
      "execution_count": 39,
      "outputs": [
        {
          "output_type": "stream",
          "name": "stdout",
          "text": [
            "Restaurant with highest vote number is:\n",
            "Restaurant Name     Toit\n",
            "Votes              10934\n",
            "Name: 728, dtype: object\n",
            "\n",
            "\n",
            "Restaurant with lowest vote number is:\n",
            "Restaurant Name    Cantinho da Gula\n",
            "Votes                             0\n",
            "Name: 69, dtype: object\n"
          ]
        }
      ]
    },
    {
      "cell_type": "code",
      "source": [
        "# Correlation between the number of votes and the rating of a restaurant\n",
        "\n",
        "# Select only the 'Votes' and 'Aggregate rating' columns from the dataset\n",
        "# Extract the specific correlation value between 'Votes' and 'Aggregate rating'\n",
        "# iloc[0,1] picks the value from the first row and second column of the matrix\n",
        "correlation_rating_restaurant=Restaurant_df[['Votes','Aggregate rating']].corr().iloc[0,1]\n",
        "\n",
        "print(f'Correlation between the number of votes and the rating: {correlation_rating_restaurant:.2f}')"
      ],
      "metadata": {
        "id": "RuPYQepgcSV-",
        "colab": {
          "base_uri": "https://localhost:8080/"
        },
        "outputId": "49a553a7-b12c-46a6-eba9-ab663015f25d"
      },
      "execution_count": 40,
      "outputs": [
        {
          "output_type": "stream",
          "name": "stdout",
          "text": [
            "Correlation between the number of votes and the rating: 0.31\n"
          ]
        }
      ]
    },
    {
      "cell_type": "markdown",
      "source": [
        "**Task 3: Price Range vs. Online Delivery and\n",
        "Table Booking**"
      ],
      "metadata": {
        "id": "jbz1hUemvTcR"
      }
    },
    {
      "cell_type": "code",
      "source": [
        "# Price Range vs. Online Delivery and Table Booking\n",
        "\n",
        "# Value counts of Online Delivery per price range\n",
        "price_range_delivery = Restaurant_df.groupby('Price range')['Has Online delivery'].value_counts().unstack(fill_value=0)\n",
        "print(\"Online Delivery Count per Price Range:\")\n",
        "print(price_range_delivery)\n",
        "print('\\n')\n",
        "\n",
        "# Value counts of table booking per price range\n",
        "price_range_table_booking = Restaurant_df.groupby('Price range')['Has Table booking'].value_counts().unstack(fill_value=0)\n",
        "\n",
        "print(\"Table Booking Count per Price Range:\")\n",
        "print(price_range_table_booking)"
      ],
      "metadata": {
        "id": "H0Jd8z5WvVbh",
        "colab": {
          "base_uri": "https://localhost:8080/"
        },
        "outputId": "773579b2-555c-44ed-e66c-d463386d2d7b"
      },
      "execution_count": 41,
      "outputs": [
        {
          "output_type": "stream",
          "name": "stdout",
          "text": [
            "Online Delivery Count per Price Range:\n",
            "Has Online delivery    No   Yes\n",
            "Price range                    \n",
            "1                    3743   701\n",
            "2                    1827  1286\n",
            "3                     997   411\n",
            "4                     533    53\n",
            "\n",
            "\n",
            "Table Booking Count per Price Range:\n",
            "Has Table booking    No  Yes\n",
            "Price range                 \n",
            "1                  4443    1\n",
            "2                  2874  239\n",
            "3                   764  644\n",
            "4                   312  274\n"
          ]
        }
      ]
    },
    {
      "cell_type": "code",
      "source": [
        "# Determine if higher-priced restaurants are more likely to offer online delivery and table booking services.\n",
        "\n",
        "# Convert 'Has Online delivery' column to numeric (1 for 'Yes', 0 for 'No') if not already integer\n",
        "if Restaurant_df['Has Online delivery'].dtype != int:\n",
        "    Restaurant_df['Has Online delivery'] = Restaurant_df['Has Online delivery'].apply(lambda x: 1 if x == 'Yes' else 0)\n",
        "\n",
        "# Convert 'Has Table booking' column to numeric (1 for 'Yes', 0 for 'No') if not already integer\n",
        "if Restaurant_df['Has Table booking'].dtype != int:\n",
        "    Restaurant_df['Has Table booking'] = Restaurant_df['Has Table booking'].apply(lambda x: 1 if x == 'Yes' else 0)\n",
        "\n",
        "# Calculate the percentage of restaurants in each price range that offer online delivery\n",
        "price_delivery_ratio = Restaurant_df.groupby('Price range')['Has Online delivery'].mean() * 100\n",
        "\n",
        "# Calculate the percentage of restaurants in each price range that offer table booking\n",
        "price_table_booking_ratio = Restaurant_df.groupby('Price range')['Has Table booking'].mean() * 100\n",
        "\n",
        "print(price_delivery_ratio)\n",
        "print(price_table_booking_ratio)"
      ],
      "metadata": {
        "id": "iS4AakA7cUE9",
        "colab": {
          "base_uri": "https://localhost:8080/"
        },
        "outputId": "e5f33f8b-28f2-484e-fcc5-113bc4cb6202"
      },
      "execution_count": 47,
      "outputs": [
        {
          "output_type": "stream",
          "name": "stdout",
          "text": [
            "Price range\n",
            "1    15.774077\n",
            "2    41.310633\n",
            "3    29.190341\n",
            "4     9.044369\n",
            "Name: Has Online delivery, dtype: float64\n",
            "Price range\n",
            "1     0.022502\n",
            "2     7.677482\n",
            "3    45.738636\n",
            "4    46.757679\n",
            "Name: Has Table booking, dtype: float64\n"
          ]
        }
      ]
    },
    {
      "cell_type": "markdown",
      "source": [
        "# **Visualization for Level 3**"
      ],
      "metadata": {
        "id": "iTdiUKiQDIRb"
      }
    },
    {
      "cell_type": "markdown",
      "source": [
        "**Task 1: Restaurant Reviews**"
      ],
      "metadata": {
        "id": "0oMVCXwODLk8"
      }
    },
    {
      "cell_type": "code",
      "source": [
        "# Creating a figure with 2 subplots (side by side)\n",
        "fig, (ax1, ax2) = plt.subplots(1, 2, figsize=(12, 5))\n",
        "\n",
        "# Plot the most common positive words with their frequencies\n",
        "ax1.bar(positive_count.keys(), positive_count.values(), color='green')\n",
        "ax1.set_title('Most Common Positive Words')\n",
        "ax1.set_ylabel('Frequency')\n",
        "ax1.set_xlabel('Positive Words')\n",
        "\n",
        "# Plot the most common negative words with their frequencies\n",
        "ax2.bar(negative_count.keys(), negative_count.values(), color='red')\n",
        "ax2.set_title('Most Common Negative Words')\n",
        "ax2.set_ylabel('Frequency')\n",
        "ax2.set_xlabel('Negative Words')\n",
        "\n",
        "plt.tight_layout()\n",
        "plt.show()"
      ],
      "metadata": {
        "id": "mE60nBjTDRw5",
        "colab": {
          "base_uri": "https://localhost:8080/",
          "height": 507
        },
        "outputId": "fb2436fa-ef08-4c3a-de88-73d26f26245f"
      },
      "execution_count": 43,
      "outputs": [
        {
          "output_type": "display_data",
          "data": {
            "text/plain": [
              "<Figure size 1200x500 with 2 Axes>"
            ],
            "image/png": "[encoded data removed]"
          },
          "metadata": {}
        }
      ]
    },
    {
      "cell_type": "markdown",
      "source": [
        "**Reason to pick the specific chart?**\n",
        "\n",
        "Bar charts clearly show which positive or negative words appear most often in reviews."
      ],
      "metadata": {
        "id": "SS0uNUumtzMI"
      }
    },
    {
      "cell_type": "markdown",
      "source": [
        "**Task 2: Votes Analysis**"
      ],
      "metadata": {
        "id": "HPNIx_MdDTcS"
      }
    },
    {
      "cell_type": "code",
      "source": [
        "# Store the single correlation value between (Rating and Votes)\n",
        "corr_value = correlation_rating_restaurant\n",
        "\n",
        "# Converting the single correlation value into a 2D DataFrame\n",
        "corr_matrix = pd.DataFrame([[corr_value]],columns=['Aggregate rating'],index=['Votes'])\n",
        "plt.figure(figsize=(4,3))\n",
        "sns.heatmap(corr_matrix, annot=True, cmap='coolwarm', vmin=-1, vmax=1)\n",
        "plt.title('Correlation between Rating and Votes')\n",
        "plt.show()"
      ],
      "metadata": {
        "id": "N5alyTUhDY1b",
        "colab": {
          "base_uri": "https://localhost:8080/",
          "height": 307
        },
        "outputId": "00797786-181c-4a0d-c9e6-e69ef8a6ca1b"
      },
      "execution_count": 45,
      "outputs": [
        {
          "output_type": "display_data",
          "data": {
            "text/plain": [
              "<Figure size 400x300 with 2 Axes>"
            ],
            "image/png": "[encoded data removed]"
          },
          "metadata": {}
        }
      ]
    },
    {
      "cell_type": "markdown",
      "source": [
        "**Reason to pick the specific chart?**\n",
        "\n",
        "A heatmap was chosen because it visually represents the strength and direction of correlations between multiple variables in a compact and easy-to-interpret way."
      ],
      "metadata": {
        "id": "BZ9huBgkuIB0"
      }
    },
    {
      "cell_type": "markdown",
      "source": [
        "**Task 3: Price Range vs. Online Delivery and\n",
        "Table Booking**"
      ],
      "metadata": {
        "id": "bTi9TvEyDV1n"
      }
    },
    {
      "cell_type": "code",
      "source": [
        "# Plot Online Delivery by Price Range\n",
        "# Creating a bar chart showing how many restaurants in each price range offer online delivery.\n",
        "price_range_delivery.plot(kind='bar', stacked=True, figsize=(7,5), color=['yellow', 'red'])\n",
        "plt.title('Online Delivery by Price Range')\n",
        "plt.ylabel('Number of Restaurants')\n",
        "plt.show()\n",
        "\n",
        "# Plot Table Booking by Price Range\n",
        "# Creating another bar chart showing how many restaurants in each price range offer table booking.\n",
        "price_range_table_booking.plot(kind='bar', stacked=True, figsize=(7,5), color=['yellow', 'red'])\n",
        "plt.title('Table Booking by Price Range')\n",
        "plt.ylabel('Number of Restaurants')\n",
        "plt.show()"
      ],
      "metadata": {
        "id": "BP8qZZoqDZSn",
        "colab": {
          "base_uri": "https://localhost:8080/",
          "height": 931
        },
        "outputId": "ab920738-c0f4-400b-d145-25729b4a52d0"
      },
      "execution_count": 65,
      "outputs": [
        {
          "output_type": "display_data",
          "data": {
            "text/plain": [
              "<Figure size 700x500 with 1 Axes>"
            ],
            "image/png": "[encoded data removed]"
          },
          "metadata": {}
        },
        {
          "output_type": "display_data",
          "data": {
            "text/plain": [
              "<Figure size 700x500 with 1 Axes>"
            ],
            "image/png": "[encoded data removed]"
          },
          "metadata": {}
        }
      ]
    },
    {
      "cell_type": "markdown",
      "source": [
        "**Reason to pick the specific chart?**\n",
        "\n",
        "The stacked bar chart is chosen for this visualization because it effectively shows how the availability of online delivery and table booking services varies across different price ranges."
      ],
      "metadata": {
        "id": "LCXoXV2zuXzh"
      }
    },
    {
      "cell_type": "markdown",
      "source": [
        "# **Insight's From Level 3**"
      ],
      "metadata": {
        "id": "HfirpTqSUUFS"
      }
    },
    {
      "cell_type": "markdown",
      "source": [
        "*   Good is the Most common positive words & Poor is the Most common negative word.\n",
        "*   19.91 is the Average Review Length and 0.19 is the correlation coefficient.\n",
        "*   Toit Restaurant has the highest number of votes & Cantinho da Gula has the lowest number of votes.\n",
        "*   Correlation between the number of votes and the rating is 0.31.\n",
        "*   Higher-priced restaurants are more likely to offer online delivery and table booking options compared to lower-priced ones.\n",
        "*   Higher-priced restaurants (Price Range 3–4) are much more likely to offer table booking services, while mid-priced ones (Price Range 2) tend to offer online delivery more frequently."
      ],
      "metadata": {
        "id": "1SiPqO2jUlkB"
      }
    },
    {
      "cell_type": "markdown",
      "source": [
        "# **Decisions Based on Insight's from Level 3**"
      ],
      "metadata": {
        "id": "9KkM90ekUq_Y"
      }
    },
    {
      "cell_type": "markdown",
      "source": [
        "**Focus on Quality Experience:**\n",
        "\n",
        "Since “Good” and “Poor” are the most common review sentiments, restaurants should prioritize consistent food and service quality to convert average experiences into positive ones.\n",
        "\n",
        "**Encourage Longer, Detailed Reviews:**\n",
        "\n",
        "With an average review length of ~20 words and a positive correlation with rating, prompting customers to write more descriptive feedback can help gather richer insights and improve ratings.\n",
        "\n",
        "**Leverage High-Engagement Outlets:**\n",
        "\n",
        "Restaurants like Toit attract strong customer engagement (highest votes), suggesting their marketing and service approach can serve as a benchmark for others.\n",
        "\n",
        "**Boost Visibility for Low-Vote Restaurants:**\n",
        "\n",
        "Outlets with fewer votes (like Cantinho da Gula) can implement loyalty programs or digital campaigns to increase customer participation and awareness.\n",
        "\n",
        "**Invest in Convenience Services:**\n",
        "\n",
        "Since higher-priced restaurants are more likely to offer online delivery and table booking, mid-range restaurants can adopt these features to enhance competitiveness and customer satisfaction.\n",
        "\n",
        "**Differentiate Service Strategy by Price Range:**\n",
        "\n",
        "Price Range 3–4 should emphasize premium dine-in experiences with booking options, while mid-range (Price Range 2) can focus on efficient online delivery to maximize reach."
      ],
      "metadata": {
        "id": "roN6OXdwUt73"
      }
    }
  ]
}